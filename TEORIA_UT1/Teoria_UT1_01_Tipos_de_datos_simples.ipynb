{
  "cells": [
    {
      "cell_type": "markdown",
      "id": "c2447a2b",
      "metadata": {
        "id": "c2447a2b"
      },
      "source": [
        "# UT2 · 01 Tipos de datos simples"
      ]
    },
    {
      "cell_type": "markdown",
      "id": "a25d7dff",
      "metadata": {
        "id": "a25d7dff"
      },
      "source": [
        "1. Tipos de datos primitivos simples"
      ]
    },
    {
      "cell_type": "code",
      "execution_count": null,
      "id": "e816d746",
      "metadata": {
        "id": "e816d746"
      },
      "outputs": [],
      "source": [
        "2. Tipos de datos primitivos compuestos (contenedores)2\n",
        "#\n",
        "3. Clase de un dato (type())2\n",
        "#"
      ]
    },
    {
      "cell_type": "markdown",
      "id": "e45a4f5b",
      "metadata": {
        "id": "e45a4f5b"
      },
      "source": [
        "4. Números (clases int y float)3\n",
        "\n",
        "\n",
        "\n",
        "5. Operadores aritméticos3\n",
        "\n",
        "\n",
        "\n",
        "6. Operadores lógicos con números4\n",
        "\n",
        "\n",
        "\n",
        "7. Datos lógicos o booleanos (clase bool)4\n",
        "\n",
        "\n",
        "\n",
        "7.1 Operaciones con valores lógicos4\n",
        "\n",
        "\n",
        "\n",
        "8. Conversión de datos primitivos simples5\n",
        "\n",
        "\n",
        "\n",
        "9. Variables6"
      ]
    },
    {
      "cell_type": "code",
      "execution_count": null,
      "id": "a66141f0",
      "metadata": {
        "id": "a66141f0"
      },
      "outputs": [],
      "source": [
        "10. Entrada por terminal (input())7\n",
        "#\n",
        "11. Salida por terminal (print())7\n",
        "#"
      ]
    },
    {
      "cell_type": "markdown",
      "id": "34ed432b",
      "metadata": {
        "id": "34ed432b"
      },
      "source": [
        "Tipos de datos primitivos simples\n",
        "\n",
        "\n",
        "\n",
        "Números (numbers): Secuencia de dígitos (pueden incluir el - para negativos y el . para decimales) que representan números."
      ]
    },
    {
      "cell_type": "code",
      "execution_count": null,
      "id": "c75e7a66",
      "metadata": {
        "id": "c75e7a66"
      },
      "outputs": [],
      "source": [
        "Ejemplo. 0, -1, 3.1415.\n",
        "#"
      ]
    },
    {
      "cell_type": "markdown",
      "id": "0e77f5de",
      "metadata": {
        "id": "0e77f5de"
      },
      "source": [
        "Cadenas (strings): Secuencia de caracteres alfanuméricos que representan texto. Se escriben entre comillas simples o dobles.\n",
        "\n",
        "\n",
        "\n",
        "Ejemplo. ‘Hola’, “Adiós”.\n",
        "\n",
        "\n",
        "\n",
        "Booleanos (boolean): Contiene únicamente dos elementos True y False que representan los valores lógicos verdadero y falso respectivamente.\n",
        "\n",
        "\n",
        "\n",
        "\n",
        "\n",
        "\n",
        "\n",
        "Estos datos son inmutables, es decir, su valor es constante y no puede cambiar."
      ]
    },
    {
      "cell_type": "code",
      "execution_count": null,
      "id": "49bf99da",
      "metadata": {
        "id": "49bf99da"
      },
      "outputs": [],
      "source": [
        "Tipos de datos primitivos compuestos (contenedores)\n",
        "#\n",
        "Listas (lists): Colecciones de objetos que representan secuencias ordenadas de objetos de distintos tipos. Se representan con corchetes y los elementos se separan por comas.\n",
        "#"
      ]
    },
    {
      "cell_type": "markdown",
      "id": "05c4f68e",
      "metadata": {
        "id": "05c4f68e"
      },
      "source": [
        "Ejemplo. [1, “dos”, [3, 4], True, “True”, 1.52].\n",
        "\n",
        "\n",
        "\n",
        "Tuplas (tuples). Colecciones de objetos que representan secuencias ordenadas de objetos de distintos tipos. A diferencia de las listas son inmutables, es decir, que no cambian durante la ejecución. Se representan mediante paréntesis y los elementos se separan por comas.\n",
        "\n",
        "\n",
        "\n",
        "Ejemplo. (1, ‘dos’, 3)"
      ]
    },
    {
      "cell_type": "code",
      "execution_count": null,
      "id": "5ed9d2f1",
      "metadata": {
        "id": "5ed9d2f1"
      },
      "outputs": [],
      "source": [
        "Diccionarios (dictionaries): Colecciones de objetos con una clave asociada. Se representan con llaves, los pares separados por comas y cada par contiene una clave y un objeto asociado separados por dos puntos.\n",
        "#"
      ]
    },
    {
      "cell_type": "markdown",
      "id": "d57be95a",
      "metadata": {
        "id": "d57be95a"
      },
      "source": [
        "Ejemplo. {‘pi’:3.1416, ’e’:2.718}."
      ]
    },
    {
      "cell_type": "code",
      "execution_count": null,
      "id": "a8a5658b",
      "metadata": {
        "id": "a8a5658b"
      },
      "outputs": [],
      "source": [
        "Clase de un dato (type())\n",
        "#\n",
        "La clase a la que pertenece un dato se obtiene con el comando type()\n",
        "#"
      ]
    },
    {
      "cell_type": "code",
      "execution_count": null,
      "id": "03010739",
      "metadata": {
        "id": "03010739"
      },
      "outputs": [],
      "source": [
        "type(1)\n",
        "#\n",
        "<class 'int'>\n",
        "#\n",
        "type(\"Hola\")\n",
        "#\n",
        "<class 'str'>\n",
        "#\n",
        "type([1, \"dos\", [3, 4], True])\n",
        "#\n",
        "<class 'list'>\n",
        "#\n",
        "ype({'pi':3.1416, 'e':2.718})\n",
        "#\n",
        "<class 'dict'>\n",
        "#\n",
        "ype((1, 'dos', 3))\n",
        "#\n",
        "<class 'tuple'>\n",
        "#"
      ]
    },
    {
      "cell_type": "markdown",
      "id": "9cd843c4",
      "metadata": {
        "id": "9cd843c4"
      },
      "source": [
        "Números (clases int y float)\n",
        "\n",
        "\n",
        "\n",
        "Secuencia de dígitos pueden incluir el - [menos], para negativos, y el . [punto], para decimales que representan números. Pueden ser enteros (int) o reales (float)."
      ]
    },
    {
      "cell_type": "code",
      "execution_count": null,
      "id": "d67c9d09",
      "metadata": {
        "id": "d67c9d09"
      },
      "outputs": [],
      "source": [
        "type(1)\n",
        "#\n",
        "<class 'int'>\n",
        "#\n",
        "type(-2)\n",
        "#\n",
        "<class 'int'>\n",
        "#\n",
        "type(2.3)\n",
        "#\n",
        "<class 'float'>\n",
        "#"
      ]
    },
    {
      "cell_type": "markdown",
      "id": "5a305efd",
      "metadata": {
        "id": "5a305efd"
      },
      "source": [
        "Operadores aritméticos\n",
        "\n",
        "\n",
        "\n",
        "Operadores aritméticos: + (suma), - (resta), * (producto), / (cociente), // (cociente división entera), % (resto división entera), ** (potencia).\n",
        "\n",
        "\n",
        "\n",
        "\n",
        "\n",
        "\n",
        "\n",
        "Orden de prioridad de evaluación:\n",
        "\n",
        "\n",
        "\n",
        "\n",
        "\n",
        "\n",
        "\n",
        "Funciones predefinidas\n",
        "\n",
        "\n",
        "\n",
        "Potencias\n",
        "\n",
        "\n",
        "\n",
        "Productos y cocientes\n",
        "\n",
        "\n",
        "\n",
        "Sumas y restas\n",
        "\n",
        "\n",
        "\n",
        "\n",
        "\n",
        "\n",
        "\n",
        "Se puede saltar el orden de evaluación utilizando paréntesis ( )."
      ]
    },
    {
      "cell_type": "code",
      "execution_count": null,
      "id": "db915fe8",
      "metadata": {
        "id": "db915fe8"
      },
      "outputs": [],
      "source": [
        "2+3\n",
        "#"
      ]
    },
    {
      "cell_type": "markdown",
      "id": "419e3dd2",
      "metadata": {
        "id": "419e3dd2"
      },
      "source": [
        "5"
      ]
    },
    {
      "cell_type": "code",
      "execution_count": null,
      "id": "20419608",
      "metadata": {
        "id": "20419608"
      },
      "outputs": [],
      "source": [
        "5*-2\n",
        "#\n",
        "-10\n",
        "#\n",
        "5/2\n",
        "#"
      ]
    },
    {
      "cell_type": "markdown",
      "id": "ae0171ce",
      "metadata": {
        "id": "ae0171ce"
      },
      "source": [
        "2.5"
      ]
    },
    {
      "cell_type": "code",
      "execution_count": null,
      "id": "e52f15b6",
      "metadata": {
        "id": "e52f15b6"
      },
      "outputs": [],
      "source": [
        "5//2\n",
        "#"
      ]
    },
    {
      "cell_type": "markdown",
      "id": "fb3311e4",
      "metadata": {
        "id": "fb3311e4"
      },
      "source": [
        "2"
      ]
    },
    {
      "cell_type": "code",
      "execution_count": null,
      "id": "b53795f9",
      "metadata": {
        "id": "b53795f9"
      },
      "outputs": [],
      "source": [
        "(2+3)**2\n",
        "#"
      ]
    },
    {
      "cell_type": "markdown",
      "id": "bc45ad71",
      "metadata": {
        "id": "bc45ad71"
      },
      "source": [
        "25\n",
        "\n",
        "\n",
        "\n",
        "\n",
        "\n",
        "\n",
        "\n",
        "Operadores lógicos con números\n",
        "\n",
        "\n",
        "\n",
        "Devuelven un valor lógico o booleano.\n",
        "\n",
        "\n",
        "\n",
        "\n",
        "\n",
        "\n",
        "\n",
        "Operadores lógicos: == (igual que), > (mayor que), < (menor que), >= (mayor o igual que), <= (menor o igual que), != (distinto de)."
      ]
    },
    {
      "cell_type": "code",
      "execution_count": null,
      "id": "57db6471",
      "metadata": {
        "id": "57db6471"
      },
      "outputs": [],
      "source": [
        "3==3\n",
        "#"
      ]
    },
    {
      "cell_type": "markdown",
      "id": "627e4e6a",
      "metadata": {
        "id": "627e4e6a"
      },
      "source": [
        "True"
      ]
    },
    {
      "cell_type": "code",
      "execution_count": null,
      "id": "6e4fb5cd",
      "metadata": {
        "id": "6e4fb5cd"
      },
      "outputs": [],
      "source": [
        "3.1<=3\n",
        "#"
      ]
    },
    {
      "cell_type": "markdown",
      "id": "dfcd5da7",
      "metadata": {
        "id": "dfcd5da7"
      },
      "source": [
        "False"
      ]
    },
    {
      "cell_type": "code",
      "execution_count": null,
      "id": "e5fb08e8",
      "metadata": {
        "id": "e5fb08e8"
      },
      "outputs": [],
      "source": [
        "-1!=1\n",
        "#"
      ]
    },
    {
      "cell_type": "markdown",
      "id": "752a7d2c",
      "metadata": {
        "id": "752a7d2c"
      },
      "source": [
        "True\n",
        "\n",
        "\n",
        "\n",
        "\n",
        "\n",
        "\n",
        "\n",
        "Datos lógicos o booleanos (clase bool)\n",
        "\n",
        "\n",
        "\n",
        "Contiene únicamente dos elementos True y False que representan los valores lógicos verdadero y falso respectivamente.\n",
        "\n",
        "\n",
        "\n",
        "\n",
        "\n",
        "\n",
        "\n",
        "False tiene asociado el valor 0 y True tiene asociado el valor 1.\n",
        "\n",
        "\n",
        "\n",
        "7.1 Operaciones con valores lógicos\n",
        "\n",
        "\n",
        "\n",
        "Operadores lógicos: == (igual que), > (mayor), < (menor), >= (mayor o igual que), <= (menor o igual que), != (distinto de).\n",
        "\n",
        "\n",
        "\n",
        "not b (negación) : Devuelve True si el dato booleano b es False , y False en caso contrario.\n",
        "\n",
        "\n",
        "\n",
        "b1 and b2 : Devuelve True si los datos booleanos b1 y b2 son True, y False en caso contrario.\n",
        "\n",
        "\n",
        "\n",
        "b1 or b2 : Devuelve True si alguno de los datos booleanos b1 o b2 son True, y False en caso contrario.\n",
        "\n",
        "\n",
        "\n",
        "\n",
        "\n",
        "\n",
        "\n",
        "Tabla de verdad\n",
        "\n",
        "\n",
        "\n",
        "x\n",
        "\n",
        "\n",
        "\n",
        "y\n",
        "\n",
        "\n",
        "\n",
        "not x\n",
        "\n",
        "\n",
        "\n",
        "x and y\n",
        "\n",
        "\n",
        "\n",
        "x or y\n",
        "\n",
        "\n",
        "\n",
        "False\n",
        "\n",
        "\n",
        "\n",
        "False\n",
        "\n",
        "\n",
        "\n",
        "True\n",
        "\n",
        "\n",
        "\n",
        "False\n",
        "\n",
        "\n",
        "\n",
        "False\n",
        "\n",
        "\n",
        "\n",
        "False\n",
        "\n",
        "\n",
        "\n",
        "True\n",
        "\n",
        "\n",
        "\n",
        "True\n",
        "\n",
        "\n",
        "\n",
        "False\n",
        "\n",
        "\n",
        "\n",
        "True\n",
        "\n",
        "\n",
        "\n",
        "True\n",
        "\n",
        "\n",
        "\n",
        "False\n",
        "\n",
        "\n",
        "\n",
        "False\n",
        "\n",
        "\n",
        "\n",
        "False\n",
        "\n",
        "\n",
        "\n",
        "True\n",
        "\n",
        "\n",
        "\n",
        "True\n",
        "\n",
        "\n",
        "\n",
        "True\n",
        "\n",
        "\n",
        "\n",
        "False\n",
        "\n",
        "\n",
        "\n",
        "True\n",
        "\n",
        "\n",
        "\n",
        "True"
      ]
    },
    {
      "cell_type": "code",
      "execution_count": null,
      "id": "cc83a4e8",
      "metadata": {
        "id": "cc83a4e8"
      },
      "outputs": [],
      "source": [
        "not True\n",
        "#"
      ]
    },
    {
      "cell_type": "markdown",
      "id": "0baffa0f",
      "metadata": {
        "id": "0baffa0f"
      },
      "source": [
        "False"
      ]
    },
    {
      "cell_type": "code",
      "execution_count": null,
      "id": "9f9aee9a",
      "metadata": {
        "id": "9f9aee9a"
      },
      "outputs": [],
      "source": [
        "False or True\n",
        "#"
      ]
    },
    {
      "cell_type": "markdown",
      "id": "62d9fab8",
      "metadata": {
        "id": "62d9fab8"
      },
      "source": [
        "True"
      ]
    },
    {
      "cell_type": "code",
      "execution_count": null,
      "id": "24399c97",
      "metadata": {
        "id": "24399c97"
      },
      "outputs": [],
      "source": [
        "True and False\n",
        "#"
      ]
    },
    {
      "cell_type": "markdown",
      "id": "2fcf40a1",
      "metadata": {
        "id": "2fcf40a1"
      },
      "source": [
        "False"
      ]
    },
    {
      "cell_type": "code",
      "execution_count": null,
      "id": "73ba5a7d",
      "metadata": {
        "id": "73ba5a7d"
      },
      "outputs": [],
      "source": [
        "True and True\n",
        "#"
      ]
    },
    {
      "cell_type": "markdown",
      "id": "0b825db2",
      "metadata": {
        "id": "0b825db2"
      },
      "source": [
        "True\n",
        "\n",
        "\n",
        "\n",
        "\n",
        "\n",
        "\n",
        "\n",
        "Conversión de datos primitivos simples\n",
        "\n",
        "\n",
        "\n",
        "Las siguientes funciones convierten un dato de un tipo en otro, siempre y cuando la conversión sea posible."
      ]
    },
    {
      "cell_type": "code",
      "execution_count": null,
      "id": "3f1212fc",
      "metadata": {
        "id": "3f1212fc"
      },
      "outputs": [],
      "source": [
        "int() convierte a entero.\n",
        "#\n",
        "Ejemplo. int('12')  12\n",
        "#\n",
        "int(True)  1\n",
        "#\n",
        "int('c')  Error\n",
        "#\n",
        "float() convierte a real.\n",
        "#\n",
        "Ejemplo. float('3.14')  3.14\n",
        "#\n",
        "float(True)  1.0\n",
        "#\n",
        "float('III')  Error\n",
        "#\n",
        "str() convierte a cadena.\n",
        "#\n",
        "Ejemplo. str(3.14)  '3.14'\n",
        "#\n",
        "str(True)  'True'\n",
        "#"
      ]
    },
    {
      "cell_type": "markdown",
      "id": "2326d502",
      "metadata": {
        "id": "2326d502"
      },
      "source": [
        "bool() convierte a lógico."
      ]
    },
    {
      "cell_type": "code",
      "execution_count": null,
      "id": "f2825751",
      "metadata": {
        "id": "f2825751"
      },
      "outputs": [],
      "source": [
        "Ejemplo. bool('0')  False\n",
        "#\n",
        "bool('3.14')  True\n",
        "#\n",
        "bool('')  False\n",
        "#\n",
        "bool('Hola')  True\n",
        "#"
      ]
    },
    {
      "cell_type": "markdown",
      "id": "be25606c",
      "metadata": {
        "id": "be25606c"
      },
      "source": [
        "Variables\n",
        "\n",
        "\n",
        "\n",
        "Una variable es un identificador ligado a algún valor.\n",
        "\n",
        "\n",
        "\n",
        "\n",
        "\n",
        "\n",
        "\n",
        "Reglas para nombrarlas:\n",
        "\n",
        "\n",
        "\n",
        "\n",
        "\n",
        "\n",
        "\n",
        "Comienzan siempre por una letra, seguida de otras letras o números."
      ]
    },
    {
      "cell_type": "code",
      "execution_count": null,
      "id": "a1ada7d0",
      "metadata": {
        "id": "a1ada7d0"
      },
      "outputs": [],
      "source": [
        "# Válido\n",
        "#\n",
        "_variable = 10\n",
        "#\n",
        "vari_able = 20\n",
        "#\n",
        "variable10 = 30\n",
        "#\n",
        "variable = 60\n",
        "#\n",
        "variaBle = 10\n",
        "#"
      ]
    },
    {
      "cell_type": "code",
      "execution_count": null,
      "id": "c91591b1",
      "metadata": {
        "id": "c91591b1"
      },
      "outputs": [],
      "source": [
        "# No válido\n",
        "#\n",
        "2variable = 10\n",
        "#\n",
        "var-iable = 10\n",
        "#\n",
        "var iable = 10\n",
        "#"
      ]
    },
    {
      "cell_type": "markdown",
      "id": "656d5bc7",
      "metadata": {
        "id": "656d5bc7"
      },
      "source": [
        "No se pueden utilizar palabras reservadas del lenguaje."
      ]
    },
    {
      "cell_type": "code",
      "execution_count": null,
      "id": "62693302",
      "metadata": {
        "id": "62693302"
      },
      "outputs": [],
      "source": [
        "import keyword\n",
        "#\n",
        "print(keyword.kwlist)\n",
        "#"
      ]
    },
    {
      "cell_type": "code",
      "execution_count": null,
      "id": "e56375a7",
      "metadata": {
        "id": "e56375a7"
      },
      "outputs": [],
      "source": [
        "# ['False', 'None', 'True', 'and', 'as', 'assert',\n",
        "#\n",
        "# 'async', 'await', 'break', 'class', 'continue',\n",
        "#\n",
        "# 'def', 'del', 'elif', 'else', 'except', 'finally',\n",
        "#\n",
        "# 'for', 'from', 'global', 'if', 'import', 'in', 'is',\n",
        "#\n",
        "# 'lambda', 'nonlocal', 'not', 'or', 'pass', 'raise',\n",
        "#\n",
        "# 'return', 'try', 'while', 'with', 'yield'\n",
        "#"
      ]
    },
    {
      "cell_type": "markdown",
      "id": "5706412a",
      "metadata": {
        "id": "5706412a"
      },
      "source": [
        "A diferencia de otros lenguajes no tienen asociado un tipo y no es necesario declararlas antes de usarlas (tipado dinámico).\n",
        "\n",
        "\n",
        "\n",
        "\n",
        "\n",
        "\n",
        "\n",
        "Para asignar un valor a una variable se utiliza el operador = y para borrar una variable se utiliza la instrucción del."
      ]
    },
    {
      "cell_type": "code",
      "execution_count": null,
      "id": "984f6d57",
      "metadata": {
        "id": "984f6d57"
      },
      "outputs": [],
      "source": [
        "lenguaje = 'Python'\n",
        "#\n",
        "x = 3.14\n",
        "#\n",
        "y = 3 + 2\n",
        "#\n",
        "# Asignación múltiple\n",
        "#\n",
        "a1, a2 = 1, 2\n",
        "#\n",
        "# Intercambio de valores\n",
        "#\n",
        "a, b = b, a\n",
        "#\n",
        "# Incremento (equivale a x = x + 2)\n",
        "#\n",
        "x += 2\n",
        "#\n",
        "# Decremento (equivale a x = x - 1)\n",
        "#\n",
        "x -= 1\n",
        "#\n",
        "# Valor no definido\n",
        "#\n",
        "x = None\n",
        "#"
      ]
    },
    {
      "cell_type": "markdown",
      "id": "a2ea9597",
      "metadata": {
        "id": "a2ea9597"
      },
      "source": [
        "del x"
      ]
    },
    {
      "cell_type": "code",
      "execution_count": null,
      "id": "9930aab0",
      "metadata": {
        "id": "9930aab0"
      },
      "outputs": [],
      "source": [
        "Entrada por terminal (input())\n",
        "#"
      ]
    },
    {
      "cell_type": "markdown",
      "id": "68a81565",
      "metadata": {
        "id": "68a81565"
      },
      "source": [
        "Para asignar a una variable un valor introducido por el usuario en la consola se utiliza la instrucción"
      ]
    },
    {
      "cell_type": "code",
      "execution_count": null,
      "id": "151fb372",
      "metadata": {
        "id": "151fb372"
      },
      "outputs": [],
      "source": [
        "input(mensaje) : Muestra la cadena mensaje por la terminal y devuelve una cadena con la entrada del usuario.\n",
        "#"
      ]
    },
    {
      "cell_type": "markdown",
      "id": "e52a3668",
      "metadata": {
        "id": "e52a3668"
      },
      "source": [
        "> **Ojo:** El valor devuelto siempre es una cadena, incluso si el usuario introduce un dato numérico."
      ]
    },
    {
      "cell_type": "code",
      "execution_count": null,
      "id": "f8f04fbe",
      "metadata": {
        "id": "f8f04fbe"
      },
      "outputs": [],
      "source": [
        "language = input('¿Cuál es tu lenguaje favorito? ')\n",
        "#"
      ]
    },
    {
      "cell_type": "markdown",
      "id": "076200d6",
      "metadata": {
        "id": "076200d6"
      },
      "source": [
        "¿Cuál es tu lenguaje favorito? Python"
      ]
    },
    {
      "cell_type": "code",
      "execution_count": null,
      "id": "55c45891",
      "metadata": {
        "id": "55c45891"
      },
      "outputs": [],
      "source": [
        "language\n",
        "#"
      ]
    },
    {
      "cell_type": "markdown",
      "id": "0eeb323c",
      "metadata": {
        "id": "0eeb323c"
      },
      "source": [
        "'Python'"
      ]
    },
    {
      "cell_type": "code",
      "execution_count": null,
      "id": "cc15b06e",
      "metadata": {
        "id": "cc15b06e"
      },
      "outputs": [],
      "source": [
        "age = input('¿Cuál es tu edad? ')\n",
        "#"
      ]
    },
    {
      "cell_type": "markdown",
      "id": "beb7424d",
      "metadata": {
        "id": "beb7424d"
      },
      "source": [
        "¿Cuál es tu edad? 20"
      ]
    },
    {
      "cell_type": "code",
      "execution_count": null,
      "id": "44effc3a",
      "metadata": {
        "id": "44effc3a"
      },
      "outputs": [],
      "source": [
        "age\n",
        "#"
      ]
    },
    {
      "cell_type": "markdown",
      "id": "40cdc14d",
      "metadata": {
        "id": "40cdc14d"
      },
      "source": [
        "'20'"
      ]
    },
    {
      "cell_type": "code",
      "execution_count": null,
      "id": "81974cca",
      "metadata": {
        "id": "81974cca"
      },
      "outputs": [],
      "source": [
        "Salida por terminal (print())\n",
        "#"
      ]
    },
    {
      "cell_type": "markdown",
      "id": "b4e2def9",
      "metadata": {
        "id": "b4e2def9"
      },
      "source": [
        "Para mostrar un dato por la terminal se utiliza la instrucción"
      ]
    },
    {
      "cell_type": "code",
      "execution_count": null,
      "id": "9a325177",
      "metadata": {
        "id": "9a325177"
      },
      "outputs": [],
      "source": [
        "print(dato1, ..., sep=' ', end='\\n', file=sys.stdout)\n",
        "#"
      ]
    },
    {
      "cell_type": "markdown",
      "id": "b09b30aa",
      "metadata": {
        "id": "b09b30aa"
      },
      "source": [
        "donde\n",
        "\n",
        "\n",
        "\n",
        "\n",
        "\n",
        "\n",
        "\n",
        "dato1, … : son los datos a imprimir y pueden indicarse tantos como se quieran separados por comas.\n",
        "\n",
        "\n",
        "\n",
        "sep : establece el separador entre los datos, que por defecto es un espacio en blanco ' '.\n",
        "\n",
        "\n",
        "\n",
        "end : indica la cadena final de la impresión, que por defecto es un cambio de línea \\n.\n",
        "\n",
        "\n",
        "\n",
        "file : indica la dirección del flujo de salida, que por defecto es la salida estándar sys.stdout."
      ]
    },
    {
      "cell_type": "code",
      "execution_count": null,
      "id": "9e18bbdb",
      "metadata": {
        "id": "9e18bbdb"
      },
      "outputs": [],
      "source": [
        "print('Hola')\n",
        "#"
      ]
    },
    {
      "cell_type": "markdown",
      "id": "d63728c2",
      "metadata": {
        "id": "d63728c2"
      },
      "source": [
        "Hola"
      ]
    },
    {
      "cell_type": "code",
      "execution_count": null,
      "id": "39219377",
      "metadata": {
        "id": "39219377"
      },
      "outputs": [],
      "source": [
        "name = 'Pedro'\n",
        "#\n",
        "print('Hola', name)\n",
        "#"
      ]
    },
    {
      "cell_type": "markdown",
      "id": "21b771a5",
      "metadata": {
        "id": "21b771a5"
      },
      "source": [
        "Hola Pedro"
      ]
    },
    {
      "cell_type": "code",
      "execution_count": null,
      "id": "add996d4",
      "metadata": {
        "id": "add996d4"
      },
      "outputs": [],
      "source": [
        "print('El valor de pi es', 3.1415)\n",
        "#"
      ]
    },
    {
      "cell_type": "markdown",
      "id": "3d859c14",
      "metadata": {
        "id": "3d859c14"
      },
      "source": [
        "El valor de pi es 3.1415"
      ]
    },
    {
      "cell_type": "code",
      "execution_count": null,
      "id": "ed9a0108",
      "metadata": {
        "id": "ed9a0108"
      },
      "outputs": [],
      "source": [
        "print('Hola', name, sep='')\n",
        "#"
      ]
    },
    {
      "cell_type": "markdown",
      "id": "3559ac78",
      "metadata": {
        "id": "3559ac78"
      },
      "source": [
        "HolaPedro"
      ]
    },
    {
      "cell_type": "code",
      "execution_count": null,
      "id": "0d3b23a3",
      "metadata": {
        "id": "0d3b23a3"
      },
      "outputs": [],
      "source": [
        "print('Hola', name, end='!\\n')\n",
        "#"
      ]
    },
    {
      "cell_type": "markdown",
      "id": "7ff95fb0",
      "metadata": {
        "id": "7ff95fb0"
      },
      "source": [
        "Hola Pedro!"
      ]
    }
  ],
  "metadata": {
    "colab": {
      "provenance": []
    },
    "kernelspec": {
      "display_name": "Python 3",
      "language": "python",
      "name": "python3"
    },
    "language_info": {
      "name": "python",
      "version": "3.11"
    }
  },
  "nbformat": 4,
  "nbformat_minor": 5
}
