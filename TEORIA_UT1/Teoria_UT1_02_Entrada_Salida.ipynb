{
  "cells": [
    {
      "cell_type": "markdown",
      "id": "d8f6aa80",
      "metadata": {
        "id": "d8f6aa80"
      },
      "source": [
        "# UT2 · 02 Entrada y salida por terminal"
      ]
    },
    {
      "cell_type": "code",
      "execution_count": null,
      "id": "23c98b26",
      "metadata": {
        "id": "23c98b26"
      },
      "outputs": [],
      "source": [
        "Entrada por terminal (input())\n",
        "#"
      ]
    },
    {
      "cell_type": "markdown",
      "id": "1f90dab6",
      "metadata": {
        "id": "1f90dab6"
      },
      "source": [
        "Para asignar a una variable un valor introducido por el usuario en la consola se utiliza la instrucción"
      ]
    },
    {
      "cell_type": "code",
      "execution_count": null,
      "id": "bfcbf239",
      "metadata": {
        "id": "bfcbf239"
      },
      "outputs": [],
      "source": [
        "input(mensaje) : Muestra la cadena mensaje por la terminal y devuelve una cadena con la entrada del usuario.\n",
        "#"
      ]
    },
    {
      "cell_type": "markdown",
      "id": "0f9ff288",
      "metadata": {
        "id": "0f9ff288"
      },
      "source": [
        "> **Ojo:** El valor devuelto siempre es una cadena, incluso si el usuario introduce un dato numérico."
      ]
    },
    {
      "cell_type": "code",
      "execution_count": null,
      "id": "50fd3d67",
      "metadata": {
        "id": "50fd3d67"
      },
      "outputs": [],
      "source": [
        "language = input('¿Cuál es tu lenguaje favorito? ')\n",
        "#"
      ]
    },
    {
      "cell_type": "markdown",
      "id": "76fc01f7",
      "metadata": {
        "id": "76fc01f7"
      },
      "source": [
        "¿Cuál es tu lenguaje favorito? Python"
      ]
    },
    {
      "cell_type": "code",
      "execution_count": null,
      "id": "c7ac370f",
      "metadata": {
        "id": "c7ac370f"
      },
      "outputs": [],
      "source": [
        "language\n",
        "#"
      ]
    },
    {
      "cell_type": "markdown",
      "id": "54cb2d11",
      "metadata": {
        "id": "54cb2d11"
      },
      "source": [
        "'Python'"
      ]
    },
    {
      "cell_type": "code",
      "execution_count": null,
      "id": "e8ca4413",
      "metadata": {
        "id": "e8ca4413"
      },
      "outputs": [],
      "source": [
        "age = input('¿Cuál es tu edad? ')\n",
        "#"
      ]
    },
    {
      "cell_type": "markdown",
      "id": "a646de0c",
      "metadata": {
        "id": "a646de0c"
      },
      "source": [
        "¿Cuál es tu edad? 20"
      ]
    },
    {
      "cell_type": "code",
      "execution_count": null,
      "id": "3bad4c62",
      "metadata": {
        "id": "3bad4c62"
      },
      "outputs": [],
      "source": [
        "age\n",
        "#"
      ]
    },
    {
      "cell_type": "markdown",
      "id": "a8127402",
      "metadata": {
        "id": "a8127402"
      },
      "source": [
        "'20'"
      ]
    },
    {
      "cell_type": "code",
      "execution_count": null,
      "id": "6bffa650",
      "metadata": {
        "id": "6bffa650"
      },
      "outputs": [],
      "source": [
        "Salida por terminal (print())\n",
        "#"
      ]
    },
    {
      "cell_type": "markdown",
      "id": "145e95cd",
      "metadata": {
        "id": "145e95cd"
      },
      "source": [
        "Para mostrar un dato por la terminal se utiliza la instrucción"
      ]
    },
    {
      "cell_type": "code",
      "execution_count": null,
      "id": "789c4640",
      "metadata": {
        "id": "789c4640"
      },
      "outputs": [],
      "source": [
        "print(dato1, ..., sep=' ', end='\\n', file=sys.stdout)\n",
        "#"
      ]
    },
    {
      "cell_type": "markdown",
      "id": "29e015b9",
      "metadata": {
        "id": "29e015b9"
      },
      "source": [
        "donde\n",
        "\n",
        "\n",
        "\n",
        "\n",
        "\n",
        "\n",
        "\n",
        "dato1, … : son los datos a imprimir y pueden indicarse tantos como se quieran separados por comas.\n",
        "\n",
        "\n",
        "\n",
        "sep : establece el separador entre los datos, que por defecto es un espacio en blanco ' '.\n",
        "\n",
        "\n",
        "\n",
        "end : indica la cadena final de la impresión, que por defecto es un cambio de línea \\n.\n",
        "\n",
        "\n",
        "\n",
        "file : indica la dirección del flujo de salida, que por defecto es la salida estándar sys.stdout."
      ]
    },
    {
      "cell_type": "code",
      "execution_count": null,
      "id": "34028cc9",
      "metadata": {
        "id": "34028cc9"
      },
      "outputs": [],
      "source": [
        "print('Hola')\n",
        "#"
      ]
    },
    {
      "cell_type": "markdown",
      "id": "0b354484",
      "metadata": {
        "id": "0b354484"
      },
      "source": [
        "Hola"
      ]
    },
    {
      "cell_type": "code",
      "execution_count": null,
      "id": "bfa03926",
      "metadata": {
        "id": "bfa03926"
      },
      "outputs": [],
      "source": [
        "name = 'Pedro'\n",
        "#\n",
        "print('Hola', name)\n",
        "#"
      ]
    },
    {
      "cell_type": "markdown",
      "id": "adc5186a",
      "metadata": {
        "id": "adc5186a"
      },
      "source": [
        "Hola Pedro"
      ]
    },
    {
      "cell_type": "code",
      "execution_count": null,
      "id": "2061b242",
      "metadata": {
        "id": "2061b242"
      },
      "outputs": [],
      "source": [
        "print('El valor de pi es', 3.1415)\n",
        "#"
      ]
    },
    {
      "cell_type": "markdown",
      "id": "6d8ead4d",
      "metadata": {
        "id": "6d8ead4d"
      },
      "source": [
        "El valor de pi es 3.1415"
      ]
    },
    {
      "cell_type": "code",
      "execution_count": null,
      "id": "f4d91e61",
      "metadata": {
        "id": "f4d91e61"
      },
      "outputs": [],
      "source": [
        "print('Hola', name, sep='')\n",
        "#"
      ]
    },
    {
      "cell_type": "markdown",
      "id": "58d86356",
      "metadata": {
        "id": "58d86356"
      },
      "source": [
        "HolaPedro"
      ]
    },
    {
      "cell_type": "code",
      "execution_count": null,
      "id": "7f9d54a2",
      "metadata": {
        "id": "7f9d54a2"
      },
      "outputs": [],
      "source": [
        "print('Hola', name, end='!\\n')\n",
        "#"
      ]
    },
    {
      "cell_type": "markdown",
      "id": "8f1c8f30",
      "metadata": {
        "id": "8f1c8f30"
      },
      "source": [
        "Hola Pedro!"
      ]
    }
  ],
  "metadata": {
    "kernelspec": {
      "display_name": "Python 3",
      "language": "python",
      "name": "python3"
    },
    "language_info": {
      "name": "python",
      "version": "3.11"
    },
    "colab": {
      "provenance": []
    }
  },
  "nbformat": 4,
  "nbformat_minor": 5
}