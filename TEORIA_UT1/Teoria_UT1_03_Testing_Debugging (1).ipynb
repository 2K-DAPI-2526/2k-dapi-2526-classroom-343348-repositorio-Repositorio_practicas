{
 "cells": [
  {
   "cell_type": "markdown",
   "id": "15aba82a",
   "metadata": {},
   "source": [
    "# UT2 · Depuración con `pytest` y VS Code (v4)\n",
    "\n",
    "**Objetivo:** comprender y aplicar la **depuración** en Python: qué es, para qué sirve, cómo se relaciona con el **testing**, qué aporta **`pytest`** y cómo usar el **depurador de VS Code** para llevar código **de rojo a verde**.\n"
   ]
  },
  {
   "cell_type": "markdown",
   "id": "2df89e2c",
   "metadata": {},
   "source": [
    "## 1. ¿Qué es depuración (debug)?\n",
    "La **depuración** es el proceso sistemático de **detectar, analizar y corregir errores** en un programa para que cumpla sus especificaciones.\n",
    "\n",
    "**Tipos de errores** más comunes:\n",
    "- **Sintácticos** (*SyntaxError*): el intérprete no puede ejecutar el código.\n",
    "- **De ejecución** (*excepciones*): el programa se interrumpe al ejecutar una operación inválida.\n",
    "- **Lógicos**: el programa no se interrumpe, pero **no hace lo correcto**.\n"
   ]
  },
  {
   "cell_type": "markdown",
   "id": "5828963a",
   "metadata": {},
   "source": [
    "## 2. ¿Para qué sirve depurar?\n",
    "- Aumenta la **calidad** y **fiabilidad** del software.\n",
    "- Reduce **costes de mantenimiento**.\n",
    "- Mejora la **comprensión** del código.\n",
    "- Es parte natural del **ciclo de vida** del software (análisis → diseño → implementación → **pruebas** → **depuración** → mantenimiento).\n",
    "\n",
    "**Ejemplo real**: un cajero automático que suma en lugar de restar al retirar efectivo. Es un error lógico que debe detectarse y corregirse.\n"
   ]
  },
  {
   "cell_type": "markdown",
   "id": "f20f40ad",
   "metadata": {},
   "source": [
    "## 3. ¿Qué es `pytest`?\n",
    "**`pytest`** es un *framework* de **pruebas unitarias** para Python.\n",
    "\n",
    "- Los tests se escriben como funciones normales con `assert`.\n",
    "- Los informes de error muestran claramente **qué esperaba** y **qué obtuvo**.\n",
    "- Permite **automatizar** decenas de casos en segundos.\n",
    "- Se integra con **GitHub Classroom** para dar feedback inmediato.\n",
    "\n",
    "**Ejemplo mínimo**:\n",
    "```python\n",
    "def test_area_rectangulo():\n",
    "    assert area_rectangulo(3, 4) == 12\n",
    "```\n"
   ]
  },
  {
   "cell_type": "markdown",
   "id": "7e913464",
   "metadata": {},
   "source": [
    "## 4. Testing vs Depuración\n",
    "- **Testing = comprobar** → Sirve para **detectar fallos**.\n",
    "- **Depuración = investigar y corregir** → Sirve para **localizar y solucionar** fallos.\n",
    "\n",
    "**Flujo típico**:\n",
    "1. Ejecutar tests → aparece un fallo.  \n",
    "2. Analizar el error (diferencia esperado vs obtenido).  \n",
    "3. Usar técnicas de depuración (prints, asserts, breakpoints).  \n",
    "4. Corregir el código.  \n",
    "5. Re-ejecutar los tests hasta que pasen en verde.\n"
   ]
  },
  {
   "cell_type": "markdown",
   "id": "f9f27cc3",
   "metadata": {},
   "source": [
    "## 5. Prerrequisitos\n",
    "Antes de empezar a depurar conviene tener el proyecto **bien organizado**. Una estructura típica es:\n",
    "\n",
    "```\n",
    ".\n",
    "├── src/           # Código fuente\n",
    "│   └── ejemplo.py\n",
    "├── tests/         # Tests automáticos con pytest\n",
    "│   └── test_ejemplo.py\n",
    "├── requirements.txt\n",
    "└── .vscode/       # Configuración de depuración (opcional)\n",
    "```\n",
    "\n",
    "Esto permite separar claramente:\n",
    "- El **código fuente** del alumno.\n",
    "- Los **tests automáticos** que validan ese código.\n",
    "\n",
    "👉 Mantener esta organización simplifica la depuración y la entrega en GitHub Classroom.\n"
   ]
  },
  {
   "cell_type": "markdown",
   "id": "aafed4fb",
   "metadata": {},
   "source": [
    "## 6. Ejecutar `pytest` y leer el informe\n",
    "Al ejecutar en VS Code:\n",
    "```bash\n",
    "pytest -q\n",
    "```\n",
    "- **`.`** = test pasado.  \n",
    "- **`F`** = test fallido.  \n",
    "- **`E`** = error en tiempo de ejecución.\n",
    "\n",
    "Ejemplo de salida:\n",
    "```\n",
    "F\n",
    "================================= FAILURES =================================\n",
    "____________________________ test_mayuscula ________________________________\n",
    ">       assert mayuscula(\"hola\") == \"HOLA!\"\n",
    "E       AssertionError: assert 'hola!' == 'HOLA!'\n",
    "E         - hola!\n",
    "E         + HOLA!\n",
    "```\n",
    "**Interpretación**:\n",
    "- Nombre del test que ha fallado.  \n",
    "- Diferencia entre lo **esperado** y lo **obtenido**.  \n",
    "- Línea exacta del fallo.\n",
    "\n",
    "👉 Filosofía: **rojo → verde → refactor**.\n"
   ]
  },
  {
   "cell_type": "markdown",
   "id": "40a472ed",
   "metadata": {},
   "source": [
    "## 7. Caso guiado: del fallo al fix\n",
    "Cuando un test falla, aplicamos un **método científico**:\n",
    "1. **Observar** el fallo (qué diferencia muestra).  \n",
    "2. **Hipótesis** sobre la causa.  \n",
    "3. **Experimento**: reproducir el fallo con un caso mínimo.  \n",
    "4. **Corrección**: modificar el código.  \n",
    "5. **Comprobación**: ejecutar de nuevo los tests.\n",
    "\n",
    "### 7.1 Código a depurar (`src/strings.py`)\n"
   ]
  },
  {
   "cell_type": "code",
   "execution_count": null,
   "id": "8437a315",
   "metadata": {},
   "outputs": [],
   "source": [
    "def shout(text: str) -> str:\n",
    "    \"\"\"Devuelve el texto en MAYÚSCULAS + un signo de exclamación.\"\"\"\n",
    "    return text + \"!\"  # BUG: falta .upper()"
   ]
  },
  {
   "cell_type": "markdown",
   "id": "82c5a31d",
   "metadata": {},
   "source": [
    "### 7.2 Test (`tests/test_strings.py`)\n"
   ]
  },
  {
   "cell_type": "code",
   "execution_count": null,
   "id": "833ed940",
   "metadata": {},
   "outputs": [],
   "source": [
    "import pytest\n",
    "from src.strings import shout\n",
    "\n",
    "def test_shout():\n",
    "    assert shout(\"hola\") == \"HOLA!\"\n",
    "    assert shout(\"Ya\") == \"YA!\"\n"
   ]
  },
  {
   "cell_type": "markdown",
   "id": "0c82f8bf",
   "metadata": {},
   "source": [
    "👉 Ejecuta `pytest -q` → falla.  \n",
    "Esto dispara la **sesión de depuración**.\n"
   ]
  },
  {
   "cell_type": "markdown",
   "id": "0c1d8adb",
   "metadata": {},
   "source": [
    "## 8. VS Code Debugger (breakpoints)\n",
    "El **debugger** es una herramienta que permite ejecutar un programa **paso a paso**, inspeccionando variables y flujo de ejecución.\n",
    "\n",
    "### ¿Por qué usar debugger en vez de `print()`?\n",
    "- Puedes detener la ejecución en un punto exacto.  \n",
    "- Observar valores de todas las variables en ese momento.  \n",
    "- Avanzar línea a línea o entrar en funciones internas.  \n",
    "- Ahorras tiempo frente a llenar el código de prints.\n",
    "\n",
    "### Breakpoints\n",
    "Un **breakpoint** es un punto donde el programa **se detiene** para inspección.\n",
    "\n",
    "### Configuración (`.vscode/launch.json`)\n",
    "```json\n",
    "{\n",
    "  \"version\": \"0.2.0\",\n",
    "  \"configurations\": [\n",
    "    {\n",
    "      \"name\": \"Python: Debug file\",\n",
    "      \"type\": \"python\",\n",
    "      \"request\": \"launch\",\n",
    "      \"program\": \"${file}\",\n",
    "      \"console\": \"integratedTerminal\"\n",
    "    },\n",
    "    {\n",
    "      \"name\": \"Python: Pytest tests\",\n",
    "      \"type\": \"python\",\n",
    "      \"request\": \"launch\",\n",
    "      \"module\": \"pytest\",\n",
    "      \"args\": [\"-q\"],\n",
    "      \"console\": \"integratedTerminal\",\n",
    "      \"justMyCode\": true\n",
    "    }\n",
    "  ]\n",
    "}\n",
    "```\n",
    "\n",
    "### Flujo de depuración en VS Code\n",
    "1. Coloca un **breakpoint** en la línea del return.  \n",
    "2. Lanza el depurador con la opción **Pytest tests**.  \n",
    "3. Cuando se detenga, inspecciona las **Variables** en el panel lateral.  \n",
    "4. Usa **Step Over (F10)** y **Step Into (F11)** para avanzar.  \n",
    "5. Observa cómo cambian los valores en tiempo real.\n",
    "\n",
    "👉 El debugger te enseña cómo fluye el programa **como si lo vieras por dentro**.\n"
   ]
  },
  {
   "cell_type": "markdown",
   "id": "7b33fa1f",
   "metadata": {},
   "source": [
    "## 9. Técnicas útiles con `pytest`\n",
    "Además de ejecutar todos los tests, `pytest` permite:\n",
    "\n",
    "- **Parametrización**: ejecutar el mismo test con múltiples entradas.\n",
    "- **Filtrar tests**: `pytest -q -k nombre` ejecuta solo los que contengan ese nombre.\n",
    "- **Parar en el primer fallo**: `pytest -q -x`.\n",
    "- **Mostrar prints**: `pytest -q -s`.\n",
    "- **Trazas más legibles**: `pytest -q --tb=short`.\n",
    "\n",
    "👉 Estas opciones ayudan a **acotar problemas** y centrarte en lo importante.\n"
   ]
  },
  {
   "cell_type": "markdown",
   "id": "26d313b1",
   "metadata": {},
   "source": [
    "## 10. Errores comunes y `assert`\n",
    "Los mensajes de error más habituales en Python:\n",
    "- `AssertionError`: una condición no se cumple.  \n",
    "- `TypeError`: operación entre tipos incompatibles.  \n",
    "- `IndexError` / `KeyError`: acceso a índice o clave inexistente.  \n",
    "- `ValueError`: conversión inválida.\n",
    "\n",
    "### Uso de asserts internos\n",
    "```python\n",
    "def mean(nums):\n",
    "    assert len(nums) > 0, \"La lista no puede estar vacía\"\n",
    "    return sum(nums) / len(nums)\n",
    "```\n",
    "👉 Detecta fallos **antes** de que se propaguen.\n"
   ]
  },
  {
   "cell_type": "markdown",
   "id": "7a57a0f0",
   "metadata": {},
   "source": [
    "## 11. Arreglo del caso (fix)\n",
    "Aplicamos la corrección en `src/strings.py`:\n"
   ]
  },
  {
   "cell_type": "code",
   "execution_count": null,
   "id": "51677eb3",
   "metadata": {},
   "outputs": [],
   "source": [
    "def shout(text: str) -> str:\n",
    "    return text.upper() + \"!\"  # FIX: ahora convierte a mayúsculas\n"
   ]
  },
  {
   "cell_type": "markdown",
   "id": "09dbf328",
   "metadata": {},
   "source": [
    "Al ejecutar de nuevo:\n",
    "```bash\n",
    "pytest -q\n",
    "```\n",
    "✅ Todos los tests pasan en verde.\n"
   ]
  },
  {
   "cell_type": "markdown",
   "id": "e82fdfb7",
   "metadata": {},
   "source": [
    "## 12. Checklist de depuración rápida\n",
    "Cada vez que un test falle, revisa:\n",
    "\n",
    "- [ ] ¿He leído bien el **diff** del assert?  \n",
    "- [ ] ¿Puedo reproducir el fallo con un caso mínimo?  \n",
    "- [ ] ¿Los **tipos** de datos son los correctos?  \n",
    "- [ ] ¿He probado **casos borde** (lista vacía, None, 0, cadena vacía)?  \n",
    "- [ ] ¿He usado **breakpoints** para inspeccionar el flujo?  \n",
    "- [ ] ¿Tras la corrección, pasan de nuevo **todos los tests**?\n",
    "\n",
    "👉 Este checklist evita caer en prueba y error sin método.\n"
   ]
  },
  {
   "cell_type": "markdown",
   "id": "4387ea87",
   "metadata": {},
   "source": [
    "## 13. Ejercicio final\n",
    "1. Implementa `mean(nums)` en `src/math_ops.py`.  \n",
    "   - Si la lista está vacía → lanza `ValueError`.  \n",
    "2. Escribe tests en `tests/test_math_ops.py`, incluyendo lista vacía.  \n",
    "3. Ejecuta `pytest -q` y usa el debugger hasta que todos pasen.\n"
   ]
  }
 ],
 "metadata": {},
 "nbformat": 4,
 "nbformat_minor": 5
}