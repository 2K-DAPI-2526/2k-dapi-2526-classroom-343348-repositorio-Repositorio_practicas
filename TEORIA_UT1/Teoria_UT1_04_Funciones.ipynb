{
 "cells": [
  {
   "cell_type": "markdown",
   "id": "1d4e051e",
   "metadata": {},
   "source": [
    "# UT2 · 05 Funciones\n",
    "\n",
    "_Conversión directa desde DOCX. Todo el contenido se ha mantenido._"
   ]
  },
  {
   "cell_type": "code",
   "execution_count": null,
   "id": "842facf2",
   "metadata": {},
   "outputs": [],
   "source": [
    "Funciones (def)\n",
    "#"
   ]
  },
  {
   "cell_type": "markdown",
   "id": "fb8ff63b",
   "metadata": {},
   "source": [
    "Una función es un bloque de código que tiene asociado un nombre, de manera que cada vez que se quiera ejecutar el bloque de código basta con invocar el nombre de la función.\n",
    "\n",
    "\n",
    "\n",
    "\n",
    "\n",
    "\n",
    "\n",
    "Para declarar una función se utiliza la siguiente sintaxis:"
   ]
  },
  {
   "cell_type": "code",
   "execution_count": null,
   "id": "4ec23f82",
   "metadata": {},
   "outputs": [],
   "source": [
    "def <nombre-funcion>(<parámetros>):\n",
    "#"
   ]
  },
  {
   "cell_type": "markdown",
   "id": "a153321f",
   "metadata": {},
   "source": [
    "bloque código"
   ]
  },
  {
   "cell_type": "code",
   "execution_count": null,
   "id": "d8b022ea",
   "metadata": {},
   "outputs": [],
   "source": [
    "return <objeto>\n",
    "#"
   ]
  },
  {
   "cell_type": "code",
   "execution_count": null,
   "id": "2640c9bf",
   "metadata": {},
   "outputs": [],
   "source": [
    "def bienvenida():\n",
    "# \n",
    "    print('¡Bienvenido a Python!')\n",
    "# \n",
    "    return\n",
    "# \n",
    "\n",
    "# \n",
    "type(bienvenida)\n",
    "# \n",
    "<class 'function'>\n",
    "# \n",
    "bienvenida()\n",
    "#"
   ]
  },
  {
   "cell_type": "markdown",
   "id": "a4a64400",
   "metadata": {},
   "source": [
    "¡Bienvenido a Python!\n",
    "\n",
    "\n",
    "\n",
    "\n",
    "\n",
    "\n",
    "\n",
    "1. Parámetros y argumentos de una función\n",
    "\n",
    "\n",
    "\n",
    "Una función puede recibir valores cuando se invoca a través de unas variables conocidas como parámetros que se definen entre paréntesis en la declaración de la función. En el cuerpo de la función se pueden usar estos parámetros como si fuesen variables.\n",
    "\n",
    "\n",
    "\n",
    "\n",
    "\n",
    "\n",
    "\n",
    "Los valores que se pasan a la función en una llamada o invocación concreta de ella se conocen como argumentos y se asocian a los parámetros de la declaración de la función."
   ]
  },
  {
   "cell_type": "code",
   "execution_count": null,
   "id": "1a32a852",
   "metadata": {},
   "outputs": [],
   "source": [
    "def bienvenida(nombre):\n",
    "# \n",
    "    print('¡Bienvenido a Python', nombre + '!')\n",
    "# \n",
    "    return\n",
    "# \n",
    "\n",
    "# \n",
    "bienvenida('Ramón')\n",
    "#"
   ]
  },
  {
   "cell_type": "markdown",
   "id": "f2733c23",
   "metadata": {},
   "source": [
    "¡Bienvenido a Python Ramón!\n",
    "\n",
    "\n",
    "\n",
    "\n",
    "\n",
    "\n",
    "\n",
    "2. Paso de argumentos a una función\n",
    "\n",
    "\n",
    "\n",
    "Los argumentos se pueden pasar de dos formas:\n",
    "\n",
    "\n",
    "\n",
    "\n",
    "\n",
    "\n",
    "\n",
    "Argumentos posicionales: Se asocian a los parámetros de la función en el mismo orden que aparecen en la definición de la función.\n",
    "\n",
    "\n",
    "\n",
    "Argumentos nominales: Se indica explícitamente el nombre del parámetro al que se asocia un argumento de la forma parametro=argumento."
   ]
  },
  {
   "cell_type": "code",
   "execution_count": null,
   "id": "12a4d080",
   "metadata": {},
   "outputs": [],
   "source": [
    "def bienvenida(nombre, apellido):\n",
    "# \n",
    "    print('¡Bienvenido a Python', nombre, apellido + '!')\n",
    "# \n",
    "    return\n",
    "# \n",
    "\n",
    "# \n",
    "bienvenida('Ramón', 'Ugarte')\n",
    "#"
   ]
  },
  {
   "cell_type": "markdown",
   "id": "8addda96",
   "metadata": {},
   "source": [
    "¡Bienvenido a Python Ramón Ugarte!"
   ]
  },
  {
   "cell_type": "code",
   "execution_count": null,
   "id": "6585ad92",
   "metadata": {},
   "outputs": [],
   "source": [
    "bienvenida(apellido='Ugarte', nombre='Ramón')\n",
    "#"
   ]
  },
  {
   "cell_type": "markdown",
   "id": "a970e3ba",
   "metadata": {},
   "source": [
    "¡Bienvenido a Python Ramón Ugarte!\n",
    "\n",
    "\n",
    "\n",
    "3. Retorno de una función\n",
    "\n",
    "\n",
    "\n",
    "Una función puede devolver un objeto de cualquier tipo tras su invocación. Para ello el objeto a devolver debe escribirse detrás de la palabra reservada return. Si no se indica ningún objeto, la función no devolverá nada."
   ]
  },
  {
   "cell_type": "code",
   "execution_count": null,
   "id": "d5305831",
   "metadata": {},
   "outputs": [],
   "source": [
    "def area_triangulo(base, altura):\n",
    "# \n",
    "    return base * altura / 2\n",
    "# \n",
    "\n",
    "# \n",
    "area_triangulo(2, 3)\n",
    "#"
   ]
  },
  {
   "cell_type": "markdown",
   "id": "3a3bde47",
   "metadata": {},
   "source": [
    "3"
   ]
  },
  {
   "cell_type": "code",
   "execution_count": null,
   "id": "1059e169",
   "metadata": {},
   "outputs": [],
   "source": [
    "area_triangulo(4, 5)\n",
    "#"
   ]
  },
  {
   "cell_type": "markdown",
   "id": "27dd96e7",
   "metadata": {},
   "source": [
    "10\n",
    "\n",
    "\n",
    "\n",
    "\n",
    "\n",
    "\n",
    "\n",
    "Una función puede devolver más de un objeto separándolos por comas tras la palabra reservada return. En tal caso, la función agrupará los objetos en una tupla y devolverá la tupla.\n",
    "\n",
    "\n",
    "\n",
    "\n",
    "\n",
    "\n",
    "\n",
    "4. Argumentos por defecto\n",
    "\n",
    "\n",
    "\n",
    "En la definición de una función se puede asignar a cada argumento un valor por defecto, de manera que si se invoca la función sin proporcionar ningún valor para ese argumento, se utiliza el valor por defecto."
   ]
  },
  {
   "cell_type": "code",
   "execution_count": null,
   "id": "475452bf",
   "metadata": {},
   "outputs": [],
   "source": [
    "def bienvenida(nombre, lenguaje='Python'):\n",
    "# \n",
    "    print('¡Bienvenido a', lenguaje, nombre + '!')\n",
    "# \n",
    "    return\n",
    "# \n",
    "\n",
    "# \n",
    "bienvenida('Ramón')\n",
    "#"
   ]
  },
  {
   "cell_type": "markdown",
   "id": "703b64c1",
   "metadata": {},
   "source": [
    "¡Bienvenido a Python Ramón!"
   ]
  },
  {
   "cell_type": "code",
   "execution_count": null,
   "id": "e07e2746",
   "metadata": {},
   "outputs": [],
   "source": [
    "bienvenida('Ramón', 'Java')\n",
    "#"
   ]
  },
  {
   "cell_type": "markdown",
   "id": "246a9b4d",
   "metadata": {},
   "source": [
    "¡Bienvenido a Java Ramón!\n",
    "> **Ojo:** Los valores por defecto se escriben sin dejar espacios a los lados de símbolo =\n",
    "> **Ojo:** Los parámetros con un argumento por defecto deben indicarse después de los parámetros sin argumentos por defectos. De lo contrario se produce un error.\n",
    "\n",
    "\n",
    "\n",
    "\n",
    "\n",
    "\n",
    "\n",
    "5. Ámbito de los argumentos y variables de una función\n",
    "\n",
    "\n",
    "\n",
    "Los parámetros y las variables declaradas dentro de una función son de ÁMBITO LOCAL, mientras que las definidas fuera de ella son de ámbito global.\n",
    "\n",
    "\n",
    "\n",
    "\n",
    "\n",
    "\n",
    "\n",
    "Tanto los parámetros como las variables del ámbito local de una función sólo están accesibles durante la ejecución de la función, es decir, cuando termina la ejecución de la función estas variables desaparecen y no son accesibles desde fuera de la función."
   ]
  },
  {
   "cell_type": "code",
   "execution_count": null,
   "id": "a9287042",
   "metadata": {},
   "outputs": [],
   "source": [
    "def bienvenida(nombre):\n",
    "# \n",
    "    lenguaje = 'Python'\n",
    "# \n",
    "    print('¡Bienvenido a', lenguaje, nombre + '!')\n",
    "# \n",
    "    return\n",
    "# \n",
    "\n",
    "# \n",
    "bienvenida('Ramón')\n",
    "#"
   ]
  },
  {
   "cell_type": "markdown",
   "id": "501e3704",
   "metadata": {},
   "source": [
    "¡Bienvenido a Python Ramón!"
   ]
  },
  {
   "cell_type": "code",
   "execution_count": null,
   "id": "d92389c9",
   "metadata": {},
   "outputs": [],
   "source": [
    "lenguaje\n",
    "# \n",
    "Traceback (most recent call last):\n",
    "# \n",
    "File \"<stdin>\", line 1, in <module>\n",
    "#"
   ]
  },
  {
   "cell_type": "markdown",
   "id": "4ad7733c",
   "metadata": {},
   "source": [
    "NameError: name 'lenguaje' is not defined\n",
    "\n",
    "\n",
    "\n",
    "\n",
    "\n",
    "\n",
    "\n",
    "Si en el ámbito local de una función existe una variable que también existe en el ámbito global, durante la ejecución de la función la variable global queda eclipsada por la variable local y no es accesible hasta que finaliza la ejecución de la función."
   ]
  },
  {
   "cell_type": "code",
   "execution_count": null,
   "id": "3f856ad5",
   "metadata": {},
   "outputs": [],
   "source": [
    "lenguaje = 'Java'\n",
    "# \n",
    "def bienvenida():\n",
    "# \n",
    "    lenguaje = 'Python'\n",
    "# \n",
    "    print('¡Bienvenido a', lenguaje + '!')\n",
    "# \n",
    "    return\n",
    "# \n",
    "\n",
    "# \n",
    "bienvenida()\n",
    "#"
   ]
  },
  {
   "cell_type": "markdown",
   "id": "7b6ef713",
   "metadata": {},
   "source": [
    "¡Bienvenido a Python!"
   ]
  },
  {
   "cell_type": "code",
   "execution_count": null,
   "id": "cdf8939b",
   "metadata": {},
   "outputs": [],
   "source": [
    "print(lenguaje)\n",
    "#"
   ]
  },
  {
   "cell_type": "markdown",
   "id": "86e33cdc",
   "metadata": {},
   "source": [
    "Java\n",
    "\n",
    "\n",
    "\n",
    "\n",
    "\n",
    "\n",
    "\n",
    "6. Paso de argumentos por asignación\n",
    "\n",
    "\n",
    "\n",
    "En Python los argumentos se pasan a una función por asignación, es decir, se asignan a los parámetros de la función como si fuesen variables locales. De este modo, cuando los argumentos son objetos mutables (listas, diccionarios, etc.) se pasa al parámetro una referencia al objeto, de manera que cualquier cambio que se haga dentro de la función mediante el parámetro asociado afectará al objeto original."
   ]
  },
  {
   "cell_type": "code",
   "execution_count": null,
   "id": "1431f1d6",
   "metadata": {},
   "outputs": [],
   "source": [
    "primer_curso = ['Matemáticas', 'Física']\n",
    "# \n",
    "def añade_asignatura(curso, asignatura):\n",
    "# \n",
    "    curso.append(asignatura)\n",
    "# \n",
    "    return\n",
    "# \n",
    "\n",
    "# \n",
    "añade_asignatura(primer_curso, 'Química')\n",
    "# \n",
    "print(primer_curso)\n",
    "#"
   ]
  },
  {
   "cell_type": "markdown",
   "id": "b20e159e",
   "metadata": {},
   "source": [
    "['Matemáticas', 'Física', 'Química']\n",
    "\n",
    "\n",
    "\n",
    "\n",
    "\n",
    "\n",
    "\n",
    "7. Funciones recursivas\n",
    "\n",
    "\n",
    "\n",
    "Una función recursiva es una función que en su cuerpo contiene una llama a sí misma.\n",
    "\n",
    "\n",
    "\n",
    "\n",
    "\n",
    "\n",
    "\n",
    "La recursión es una práctica común en la mayoría de los lenguajes de programación ya que permite resolver las tareas recursivas de manera más natural.\n",
    "\n",
    "\n",
    "\n",
    "\n",
    "\n",
    "\n",
    "\n",
    "Para garantizar el final de una función recursiva, las sucesivas llamadas tienen que reducir el grado de complejidad del problema, hasta que este pueda resolverse directamente sin necesidad de volver a llamar a la función."
   ]
  },
  {
   "cell_type": "code",
   "execution_count": null,
   "id": "62d5a60b",
   "metadata": {},
   "outputs": [],
   "source": [
    "def factorial(n):\n",
    "# \n",
    "    if n == 0:\n",
    "# \n",
    "        return 1\n",
    "# \n",
    "    else:\n",
    "# \n",
    "        return n * factorial(n-1)\n",
    "# \n",
    "\n",
    "# \n",
    "factorial(5)\n",
    "#"
   ]
  },
  {
   "cell_type": "markdown",
   "id": "89763028",
   "metadata": {},
   "source": [
    "120\n",
    "\n",
    "\n",
    "\n",
    "\n",
    "\n",
    "\n",
    "\n",
    "7.1. Los riesgos de la recursión\n",
    "\n",
    "\n",
    "\n",
    "Aunque la recursión permite resolver las tareas recursivas de forma más natural, hay que tener cuidado con ella porque suele consumir bastante memoria, ya que cada llamada a la función crea un nuevo ámbito local con las variables y los parámetros de la función.\n",
    "\n",
    "\n",
    "\n",
    "\n",
    "\n",
    "\n",
    "\n",
    "En muchos casos es más eficiente resolver la tarea recursiva de forma iterativa usando bucles."
   ]
  },
  {
   "cell_type": "code",
   "execution_count": null,
   "id": "62da0b5b",
   "metadata": {},
   "outputs": [],
   "source": [
    "def fibonacci(n):\n",
    "# \n",
    "    a, b = 0, 1\n",
    "# \n",
    "    for i in range(n):\n",
    "# \n",
    "        a, b = b, a + b\n",
    "# \n",
    "    return a\n",
    "# \n",
    "\n",
    "# \n",
    "fibonacci(6)\n",
    "#"
   ]
  },
  {
   "cell_type": "markdown",
   "id": "a1ef14db",
   "metadata": {},
   "source": [
    "8\n",
    "\n",
    "\n",
    "\n",
    "\n",
    "\n",
    "\n",
    "\n",
    "8. Documentación de funciones\n",
    "\n",
    "\n",
    "\n",
    "Una práctica muy recomendable cuando se define una función es describir lo que la función hace en un comentario.\n",
    "\n",
    "\n",
    "\n",
    "\n",
    "\n",
    "\n",
    "\n",
    "En Python esto se hace con un docstring que es un tipo de comentario especial se hace en la línea siguiente al encabezado de la función entre tres comillas simples ''' o dobles \"\"\".\n",
    "\n",
    "\n",
    "\n",
    "\n",
    "\n",
    "\n",
    "\n",
    "Después se puede acceder a la documentación de la función con la función help(<nombre-función>)."
   ]
  },
  {
   "cell_type": "code",
   "execution_count": null,
   "id": "2ad421bc",
   "metadata": {},
   "outputs": [],
   "source": [
    "def area_triangulo(base, altura):\n",
    "# \n",
    "\"\"\"Función que calcula el área de un triángulo.\n",
    "# \n",
    "\n",
    "# \n",
    "Parámetros:\n",
    "# \n",
    "    - base: Un número real con la base del triángulo.\n",
    "# \n",
    "    - altura: Un número real con la altura del triángulo.\n",
    "# \n",
    "Salida:\n",
    "# \n",
    "    Un número real con el área del triángulo de base y altura especificadas.\n",
    "# \n",
    "\"\"\"\n",
    "# \n",
    "    return base * altura / 2\n",
    "# \n",
    "\n",
    "# \n",
    "help(area_triangulo)\n",
    "# \n",
    "area_triangulo(base, altura)\n",
    "#"
   ]
  },
  {
   "cell_type": "markdown",
   "id": "4cca7fd5",
   "metadata": {},
   "source": [
    "Función que calcula el área de un triángulo.\n",
    "\n",
    "\n",
    "\n",
    "\n",
    "\n",
    "\n",
    "\n",
    "Parámetros:\n",
    "\n",
    "\n",
    "\n",
    "- base: Un número real con la base del triángulo.\n",
    "\n",
    "\n",
    "\n",
    "- altura: Un número real con la altura del triángulo.\n",
    "\n",
    "\n",
    "\n",
    "Salida:\n",
    "\n",
    "\n",
    "\n",
    "Un número real con el área del triángulo de base y altura especificadas."
   ]
  }
 ],
 "metadata": {
  "kernelspec": {
   "display_name": "Python 3",
   "language": "python",
   "name": "python3"
  },
  "language_info": {
   "name": "python",
   "version": "3.11"
  }
 },
 "nbformat": 4,
 "nbformat_minor": 5
}
