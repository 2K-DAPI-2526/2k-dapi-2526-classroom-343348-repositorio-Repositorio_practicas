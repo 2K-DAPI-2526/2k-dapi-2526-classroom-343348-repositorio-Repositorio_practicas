{
  "cells": [
    {
      "cell_type": "markdown",
      "id": "fd760e5c",
      "metadata": {
        "id": "fd760e5c"
      },
      "source": [
        "# UT2 · 01 Cadenas"
      ]
    },
    {
      "cell_type": "code",
      "execution_count": null,
      "id": "0b927911",
      "metadata": {
        "id": "0b927911"
      },
      "outputs": [],
      "source": [
        "Cadenas (clase str)\n",
        "#"
      ]
    },
    {
      "cell_type": "markdown",
      "id": "93514e41",
      "metadata": {
        "id": "93514e41"
      },
      "source": [
        "Secuencia de caracteres alfanuméricos que representan texto. Se escriben entre comillas sencillas ’ ‘ o dobles “ “.\n",
        "\n",
        "\n",
        "\n",
        "\n",
        "\n",
        "\n",
        "\n",
        "'Python'\n",
        "\n",
        "\n",
        "\n",
        "\"123\"\n",
        "\n",
        "\n",
        "\n",
        "'True'"
      ]
    },
    {
      "cell_type": "code",
      "execution_count": null,
      "id": "af995efa",
      "metadata": {
        "id": "af995efa"
      },
      "outputs": [],
      "source": [
        "# Cadena vacía\n",
        "#"
      ]
    },
    {
      "cell_type": "markdown",
      "id": "4de2cfe0",
      "metadata": {
        "id": "4de2cfe0"
      },
      "source": [
        "''"
      ]
    },
    {
      "cell_type": "code",
      "execution_count": null,
      "id": "a2b9a778",
      "metadata": {
        "id": "a2b9a778"
      },
      "outputs": [],
      "source": [
        "# Cadena con un espacio en blanco\n",
        "#"
      ]
    },
    {
      "cell_type": "markdown",
      "id": "5c6bf2d7",
      "metadata": {
        "id": "5c6bf2d7"
      },
      "source": [
        "' '"
      ]
    },
    {
      "cell_type": "code",
      "execution_count": null,
      "id": "dc06de64",
      "metadata": {
        "id": "dc06de64"
      },
      "outputs": [],
      "source": [
        "# Cambio de línea\n",
        "#"
      ]
    },
    {
      "cell_type": "markdown",
      "id": "9679c8b3",
      "metadata": {
        "id": "9679c8b3"
      },
      "source": [
        "'\\n'"
      ]
    },
    {
      "cell_type": "code",
      "execution_count": null,
      "id": "bd690042",
      "metadata": {
        "id": "bd690042"
      },
      "outputs": [],
      "source": [
        "# Tabulador\n",
        "#"
      ]
    },
    {
      "cell_type": "markdown",
      "id": "f3d692a4",
      "metadata": {
        "id": "f3d692a4"
      },
      "source": [
        "'\\t'\n",
        "\n",
        "\n",
        "\n",
        "1. Acceso a los elementos de una cadena\n",
        "\n",
        "\n",
        "\n",
        "Cada carácter tiene asociado un índice que permite acceder a él.\n",
        "\n",
        "\n",
        "\n",
        "\n",
        "\n",
        "\n",
        "\n",
        "Cadena\n",
        "\n",
        "\n",
        "\n",
        "P\n",
        "\n",
        "\n",
        "\n",
        "y\n",
        "\n",
        "\n",
        "\n",
        "t\n",
        "\n",
        "\n",
        "\n",
        "h\n",
        "\n",
        "\n",
        "\n",
        "o\n",
        "\n",
        "\n",
        "\n",
        "n\n",
        "\n",
        "\n",
        "\n",
        "Cadena\n",
        "\n",
        "\n",
        "\n",
        "0\n",
        "\n",
        "\n",
        "\n",
        "1\n",
        "\n",
        "\n",
        "\n",
        "2\n",
        "\n",
        "\n",
        "\n",
        "3\n",
        "\n",
        "\n",
        "\n",
        "4\n",
        "\n",
        "\n",
        "\n",
        "5\n",
        "\n",
        "\n",
        "\n",
        "Índice negativo"
      ]
    },
    {
      "cell_type": "code",
      "execution_count": null,
      "id": "44204a19",
      "metadata": {
        "id": "44204a19"
      },
      "outputs": [],
      "source": [
        "-6\n",
        "#\n",
        "-5\n",
        "#\n",
        "-4\n",
        "#\n",
        "-3\n",
        "#\n",
        "-2\n",
        "#\n",
        "-1\n",
        "#"
      ]
    },
    {
      "cell_type": "markdown",
      "id": "3a30ee87",
      "metadata": {
        "id": "3a30ee87"
      },
      "source": [
        "c[i] devuelve el carácter de la cadena c con el índice i.\n",
        "> **Ojo:** El índice del primer carácter de la cadena es 0.\n",
        "\n",
        "\n",
        "\n",
        "\n",
        "\n",
        "\n",
        "\n",
        "También se pueden utilizar índices negativos para recorrer la cadena del final al principio.\n",
        "> **Ojo:** El índice del último carácter de la cadena es -1."
      ]
    },
    {
      "cell_type": "code",
      "execution_count": null,
      "id": "1cb250d7",
      "metadata": {
        "id": "1cb250d7"
      },
      "outputs": [],
      "source": [
        "'Python'[0]\n",
        "#"
      ]
    },
    {
      "cell_type": "markdown",
      "id": "1acaab7f",
      "metadata": {
        "id": "1acaab7f"
      },
      "source": [
        "'P'"
      ]
    },
    {
      "cell_type": "code",
      "execution_count": null,
      "id": "2eb84db5",
      "metadata": {
        "id": "2eb84db5"
      },
      "outputs": [],
      "source": [
        "'Python'[1]\n",
        "#"
      ]
    },
    {
      "cell_type": "markdown",
      "id": "b9985f9f",
      "metadata": {
        "id": "b9985f9f"
      },
      "source": [
        "'y'"
      ]
    },
    {
      "cell_type": "code",
      "execution_count": null,
      "id": "108c7c16",
      "metadata": {
        "id": "108c7c16"
      },
      "outputs": [],
      "source": [
        "'Python'[-1]\n",
        "#"
      ]
    },
    {
      "cell_type": "markdown",
      "id": "83265136",
      "metadata": {
        "id": "83265136"
      },
      "source": [
        "'n'"
      ]
    },
    {
      "cell_type": "code",
      "execution_count": null,
      "id": "2ec4ff36",
      "metadata": {
        "id": "2ec4ff36"
      },
      "outputs": [],
      "source": [
        "'Python'[6]\n",
        "#\n",
        "Traceback (most recent call last):\n",
        "#\n",
        "File \"<stdin>\", line 1, in <module>\n",
        "#"
      ]
    },
    {
      "cell_type": "markdown",
      "id": "8792303a",
      "metadata": {
        "id": "8792303a"
      },
      "source": [
        "IndexError: string index out of range\n",
        "\n",
        "\n",
        "\n",
        "2. Subcadenas\n",
        "\n",
        "\n",
        "\n",
        "c[i:j:k] : Devuelve la subcadena de c desde el carácter con el índice i hasta el carácter anterior al índice j, tomando caracteres cada k."
      ]
    },
    {
      "cell_type": "code",
      "execution_count": null,
      "id": "f4b846cf",
      "metadata": {
        "id": "f4b846cf"
      },
      "outputs": [],
      "source": [
        "'Python'[1:4]\n",
        "#"
      ]
    },
    {
      "cell_type": "markdown",
      "id": "b7036008",
      "metadata": {
        "id": "b7036008"
      },
      "source": [
        "'yth'"
      ]
    },
    {
      "cell_type": "code",
      "execution_count": null,
      "id": "edc00459",
      "metadata": {
        "id": "edc00459"
      },
      "outputs": [],
      "source": [
        "'Python'[1:1]\n",
        "#"
      ]
    },
    {
      "cell_type": "markdown",
      "id": "8562e110",
      "metadata": {
        "id": "8562e110"
      },
      "source": [
        "''"
      ]
    },
    {
      "cell_type": "code",
      "execution_count": null,
      "id": "9173997f",
      "metadata": {
        "id": "9173997f"
      },
      "outputs": [],
      "source": [
        "'Python'[2:]\n",
        "#"
      ]
    },
    {
      "cell_type": "markdown",
      "id": "b7079fb6",
      "metadata": {
        "id": "b7079fb6"
      },
      "source": [
        "'thon'"
      ]
    },
    {
      "cell_type": "code",
      "execution_count": null,
      "id": "08c03a20",
      "metadata": {
        "id": "08c03a20"
      },
      "outputs": [],
      "source": [
        "'Python'[:-2]\n",
        "#"
      ]
    },
    {
      "cell_type": "markdown",
      "id": "e15bd71a",
      "metadata": {
        "id": "e15bd71a"
      },
      "source": [
        "'Pyth'"
      ]
    },
    {
      "cell_type": "code",
      "execution_count": null,
      "id": "bd9d3dd9",
      "metadata": {
        "id": "bd9d3dd9"
      },
      "outputs": [],
      "source": [
        "'Python'[:]\n",
        "#"
      ]
    },
    {
      "cell_type": "markdown",
      "id": "d5bb182c",
      "metadata": {
        "id": "d5bb182c"
      },
      "source": [
        "'Python'"
      ]
    },
    {
      "cell_type": "code",
      "execution_count": null,
      "id": "f8652e55",
      "metadata": {
        "id": "f8652e55"
      },
      "outputs": [],
      "source": [
        "'Python'[0:6:2]\n",
        "#"
      ]
    },
    {
      "cell_type": "markdown",
      "id": "ec583d8b",
      "metadata": {
        "id": "ec583d8b"
      },
      "source": [
        "'Pto'\n",
        "\n",
        "\n",
        "\n",
        "3. Operaciones con cadenas"
      ]
    },
    {
      "cell_type": "code",
      "execution_count": null,
      "id": "e3bc494f",
      "metadata": {
        "id": "e3bc494f"
      },
      "outputs": [],
      "source": [
        "c1 + c2 : Devuelve la cadena resultado de concatenar las cadenas c1 y c2.\n",
        "#\n",
        "c * n : Devuelve la cadena resultado de concatenar n copias de la cadena c.\n",
        "#"
      ]
    },
    {
      "cell_type": "markdown",
      "id": "9a224c50",
      "metadata": {
        "id": "9a224c50"
      },
      "source": [
        "c1 in c2 : Devuelve True si c1 es una cadena contenida en c2 y False en caso contrario.\n",
        "\n",
        "\n",
        "\n",
        "c1 not in c2 : Devuelve True si c1 es una cadena no contenida en c2 y False en caso contrario."
      ]
    },
    {
      "cell_type": "code",
      "execution_count": null,
      "id": "07d6c15e",
      "metadata": {
        "id": "07d6c15e",
        "outputId": "2cf2f5c7-8a56-4967-b567-77eb43075e48",
        "colab": {
          "base_uri": "https://localhost:8080/",
          "height": 35
        }
      },
      "outputs": [
        {
          "output_type": "execute_result",
          "data": {
            "text/plain": [
              "'No me gusta Python'"
            ],
            "application/vnd.google.colaboratory.intrinsic+json": {
              "type": "string"
            }
          },
          "metadata": {},
          "execution_count": 2
        }
      ],
      "source": [
        "'No me gusta ' + 'Python'\n",
        "#"
      ]
    },
    {
      "cell_type": "markdown",
      "id": "7e5d4607",
      "metadata": {
        "id": "7e5d4607"
      },
      "source": [
        "'Me gusta Python'"
      ]
    },
    {
      "cell_type": "code",
      "execution_count": null,
      "id": "b4112dfa",
      "metadata": {
        "id": "b4112dfa"
      },
      "outputs": [],
      "source": [
        "'Python' * 3\n",
        "#"
      ]
    },
    {
      "cell_type": "markdown",
      "id": "23ef1597",
      "metadata": {
        "id": "23ef1597"
      },
      "source": [
        "'PythonPythonPython'"
      ]
    },
    {
      "cell_type": "code",
      "execution_count": null,
      "id": "a4d4b85e",
      "metadata": {
        "id": "a4d4b85e"
      },
      "outputs": [],
      "source": [
        "'y' in 'Python'\n",
        "#"
      ]
    },
    {
      "cell_type": "markdown",
      "id": "403c5074",
      "metadata": {
        "id": "403c5074"
      },
      "source": [
        "True"
      ]
    },
    {
      "cell_type": "code",
      "execution_count": null,
      "id": "5e144c5b",
      "metadata": {
        "id": "5e144c5b"
      },
      "outputs": [],
      "source": [
        "'tho' in 'Python'\n",
        "#"
      ]
    },
    {
      "cell_type": "markdown",
      "id": "dd82cd1a",
      "metadata": {
        "id": "dd82cd1a"
      },
      "source": [
        "True"
      ]
    },
    {
      "cell_type": "code",
      "execution_count": null,
      "id": "24410005",
      "metadata": {
        "id": "24410005"
      },
      "outputs": [],
      "source": [
        "'to' not in 'Python'\n",
        "#"
      ]
    },
    {
      "cell_type": "markdown",
      "id": "7458cb0b",
      "metadata": {
        "id": "7458cb0b"
      },
      "source": [
        "True\n",
        "\n",
        "\n",
        "\n",
        "4. Operaciones de comparación de cadenas"
      ]
    },
    {
      "cell_type": "code",
      "execution_count": null,
      "id": "c081a22f",
      "metadata": {
        "id": "c081a22f"
      },
      "outputs": [],
      "source": [
        "c1 == c2 : Devuelve True si la cadena c1 es igual que la cadena c2 y False en caso contrario.\n",
        "#\n",
        "c1 > c2 : Devuelve True si la cadena c1 sucede a la cadena c2 y False en caso contrario.\n",
        "#\n",
        "c1 < c2 : Devuelve True si la cadena c1 antecede a la cadena c2 y False en caso contrario.\n",
        "#\n",
        "c1 >= c2 : Devuelve True si la cadena c1 sucede o es igual a la cadena c2 y False en caso contrario.\n",
        "#\n",
        "c1 <= c2 : Devuelve True si la cadena c1 antecede o es igual a la cadena c2 y False en caso contrario.\n",
        "#\n",
        "c1 != c2 : Devuelve True si la cadena c1 es distinta de la cadena c2 y False en caso contrario.\n",
        "#"
      ]
    },
    {
      "cell_type": "markdown",
      "id": "3f42bc4a",
      "metadata": {
        "id": "3f42bc4a"
      },
      "source": [
        "> **Ojo:** Utilizan el orden establecido en el código ASCII."
      ]
    },
    {
      "cell_type": "code",
      "execution_count": null,
      "id": "8c8a9c22",
      "metadata": {
        "id": "8c8a9c22"
      },
      "outputs": [],
      "source": [
        "'Python' == 'python'\n",
        "#"
      ]
    },
    {
      "cell_type": "markdown",
      "id": "8757ec1b",
      "metadata": {
        "id": "8757ec1b"
      },
      "source": [
        "False"
      ]
    },
    {
      "cell_type": "code",
      "execution_count": null,
      "id": "e4add1d4",
      "metadata": {
        "id": "e4add1d4"
      },
      "outputs": [],
      "source": [
        "'Python' < 'python'\n",
        "#"
      ]
    },
    {
      "cell_type": "markdown",
      "id": "0ef75921",
      "metadata": {
        "id": "0ef75921"
      },
      "source": [
        "True"
      ]
    },
    {
      "cell_type": "code",
      "execution_count": null,
      "id": "7ae96ef8",
      "metadata": {
        "id": "7ae96ef8"
      },
      "outputs": [],
      "source": [
        "'a' > 'Z'\n",
        "#"
      ]
    },
    {
      "cell_type": "markdown",
      "id": "f96559c4",
      "metadata": {
        "id": "f96559c4"
      },
      "source": [
        "True"
      ]
    },
    {
      "cell_type": "code",
      "execution_count": null,
      "id": "09e6a76c",
      "metadata": {
        "id": "09e6a76c"
      },
      "outputs": [],
      "source": [
        "'A' >= 'Z'\n",
        "#"
      ]
    },
    {
      "cell_type": "markdown",
      "id": "973e8c87",
      "metadata": {
        "id": "973e8c87"
      },
      "source": [
        "False"
      ]
    },
    {
      "cell_type": "code",
      "execution_count": null,
      "id": "10c019fd",
      "metadata": {
        "id": "10c019fd"
      },
      "outputs": [],
      "source": [
        "'' < 'Python'\n",
        "#"
      ]
    },
    {
      "cell_type": "markdown",
      "id": "5e1a5a50",
      "metadata": {
        "id": "5e1a5a50"
      },
      "source": [
        "True\n",
        "\n",
        "\n",
        "\n",
        "5. Funciones de cadenas\n",
        "\n",
        "\n",
        "\n",
        "len(c) : Devuelve el número de caracteres de la cadena c.\n",
        "\n",
        "\n",
        "\n",
        "min(c) : Devuelve el carácter menor de la cadena c.\n",
        "\n",
        "\n",
        "\n",
        "max(c) : Devuelve el carácter mayor de la cadena c.\n",
        "\n",
        "\n",
        "\n",
        "c.upper() : Devuelve la cadena con los mismos caracteres que la cadena c pero en mayúsculas.\n",
        "\n",
        "\n",
        "\n",
        "c.lower() : Devuelve la cadena con los mismos caracteres que la cadena c pero en minúsculas.\n",
        "\n",
        "\n",
        "\n",
        "c.title() : Devuelve la cadena con los mismos caracteres que la cadena c con el primer carácter en mayúsculas y el resto en minúsculas."
      ]
    },
    {
      "cell_type": "code",
      "execution_count": null,
      "id": "bdc8674b",
      "metadata": {
        "id": "bdc8674b"
      },
      "outputs": [],
      "source": [
        "c.split(delimitador) : Devuelve la lista formada por las subcadenas que resultan de partir la cadena c usando como delimitador la cadena delimitador. Si no se especifica el delimitador utiliza por defecto el espacio en blanco.\n",
        "#"
      ]
    },
    {
      "cell_type": "code",
      "execution_count": null,
      "id": "6a1affef",
      "metadata": {
        "id": "6a1affef"
      },
      "outputs": [],
      "source": [
        "len('Python')\n",
        "#"
      ]
    },
    {
      "cell_type": "markdown",
      "id": "4f647ae9",
      "metadata": {
        "id": "4f647ae9"
      },
      "source": [
        "6"
      ]
    },
    {
      "cell_type": "code",
      "execution_count": null,
      "id": "a5c4e535",
      "metadata": {
        "id": "a5c4e535"
      },
      "outputs": [],
      "source": [
        "min('Python')\n",
        "#"
      ]
    },
    {
      "cell_type": "markdown",
      "id": "687ea7d0",
      "metadata": {
        "id": "687ea7d0"
      },
      "source": [
        "'P'"
      ]
    },
    {
      "cell_type": "code",
      "execution_count": null,
      "id": "cfc36cfe",
      "metadata": {
        "id": "cfc36cfe"
      },
      "outputs": [],
      "source": [
        "max('Python')\n",
        "#"
      ]
    },
    {
      "cell_type": "markdown",
      "id": "15526397",
      "metadata": {
        "id": "15526397"
      },
      "source": [
        "'y'"
      ]
    },
    {
      "cell_type": "code",
      "execution_count": null,
      "id": "1cdbcfb1",
      "metadata": {
        "id": "1cdbcfb1"
      },
      "outputs": [],
      "source": [
        "'Python'.upper()\n",
        "#"
      ]
    },
    {
      "cell_type": "markdown",
      "id": "676aad7d",
      "metadata": {
        "id": "676aad7d"
      },
      "source": [
        "'PYTHON'"
      ]
    },
    {
      "cell_type": "code",
      "execution_count": null,
      "id": "b0615d94",
      "metadata": {
        "id": "b0615d94"
      },
      "outputs": [],
      "source": [
        "'A,B,C'.split(',')\n",
        "#\n",
        "['A', 'B', 'C']\n",
        "#\n",
        "'I love Python'.split()\n",
        "#\n",
        "['I', 'love', 'Python']\n",
        "#\n",
        "6. Cadenas formateadas (format())\n",
        "#"
      ]
    },
    {
      "cell_type": "markdown",
      "id": "59090141",
      "metadata": {
        "id": "59090141"
      },
      "source": [
        "c.format(valores): Devuelve la cadena c tras sustituir los valores de la secuencia valores en los marcadores de posición de c. Los marcadores de posición se indican mediante llaves {} en la cadena c, y el reemplazo de los valores se puede realizar por posición, indicando en número de orden del valor dentro de las llaves, o por nombre, indicando el nombre del valor, siempre y cuando los valores se pasen con el formato nombre = valor."
      ]
    },
    {
      "cell_type": "code",
      "execution_count": null,
      "id": "bfb0ed38",
      "metadata": {
        "id": "bfb0ed38"
      },
      "outputs": [],
      "source": [
        "'Un {} vale {} {}'.format('€', 1.12, '$')\n",
        "#"
      ]
    },
    {
      "cell_type": "markdown",
      "id": "5a5a58cc",
      "metadata": {
        "id": "5a5a58cc"
      },
      "source": [
        "'Un € vale 1.12 $'"
      ]
    },
    {
      "cell_type": "code",
      "execution_count": null,
      "id": "5d90900b",
      "metadata": {
        "id": "5d90900b"
      },
      "outputs": [],
      "source": [
        "'Un {2} vale {1} {0}'.format('€', 1.12, '$')\n",
        "#"
      ]
    },
    {
      "cell_type": "markdown",
      "id": "dccd6a55",
      "metadata": {
        "id": "dccd6a55"
      },
      "source": [
        "'Un $ vale 1.12 €'"
      ]
    },
    {
      "cell_type": "code",
      "execution_count": null,
      "id": "91344585",
      "metadata": {
        "id": "91344585"
      },
      "outputs": [],
      "source": [
        "'Un {moneda1} vale {cambio} {moneda2}'.format(moneda1 = '€', cambio = 1.12, moneda2 = '$')\n",
        "#"
      ]
    },
    {
      "cell_type": "markdown",
      "id": "20e4faec",
      "metadata": {
        "id": "20e4faec"
      },
      "source": [
        "'Un € vale 1.12 $'\n",
        "\n",
        "\n",
        "\n",
        "\n",
        "\n",
        "\n",
        "\n",
        "Los marcadores de posición, a parte de indicar la posición de los valores de reemplazo, pueden indicar también el formato de estos. Para ello se utiliza la siguiente sintaxis:"
      ]
    },
    {
      "cell_type": "code",
      "execution_count": null,
      "id": "2ef53f5e",
      "metadata": {
        "id": "2ef53f5e"
      },
      "outputs": [],
      "source": [
        "{:n} : Alinea el valor a la izquierda rellenando con espacios por la derecha hasta los n caracteres.\n",
        "#\n",
        "{:>n} : Alinea el valor a la derecha rellenando con espacios por la izquierda hasta los n caracteres.\n",
        "#"
      ]
    },
    {
      "cell_type": "markdown",
      "id": "92ffb280",
      "metadata": {
        "id": "92ffb280"
      },
      "source": [
        "{:^n} : Alinea el valor en el centro rellenando con espacios por la izquierda y por la derecha hasta los n caracteres.\n",
        "\n",
        "\n",
        "\n",
        "{:nd} : Formatea el valor como un número entero con n caracteres rellenando con espacios blancos por la izquierda.\n",
        "\n",
        "\n",
        "\n",
        "{:n.mf} : Formatea el valor como un número real con un tamaño de n caracteres (incluído el separador de decimales) y m cifras decimales, rellenando con espacios blancos por la izquierda."
      ]
    },
    {
      "cell_type": "code",
      "execution_count": null,
      "id": "c44a474f",
      "metadata": {
        "id": "c44a474f"
      },
      "outputs": [],
      "source": [
        "'Hoy es {:^10}, mañana {:10} y pasado {:>10}'.format('lunes', 'martes', 'miércoles')\n",
        "#"
      ]
    },
    {
      "cell_type": "markdown",
      "id": "8cfad1dc",
      "metadata": {
        "id": "8cfad1dc"
      },
      "source": [
        "'Hoy es   lunes   , mañana martes     y pasado  miércoles'"
      ]
    },
    {
      "cell_type": "code",
      "execution_count": null,
      "id": "ca84c656",
      "metadata": {
        "id": "ca84c656"
      },
      "outputs": [],
      "source": [
        "'Cantidad {:5d}'.format(12)'\n",
        "#"
      ]
    },
    {
      "cell_type": "markdown",
      "id": "f32b89d0",
      "metadata": {
        "id": "f32b89d0"
      },
      "source": [
        "'Cantidad    12'"
      ]
    },
    {
      "cell_type": "code",
      "execution_count": null,
      "id": "9cde5ec3",
      "metadata": {
        "id": "9cde5ec3"
      },
      "outputs": [],
      "source": [
        "'Pi vale {:8.4f}'.format(3.141592)\n",
        "#"
      ]
    },
    {
      "cell_type": "markdown",
      "id": "2ee1132f",
      "metadata": {
        "id": "2ee1132f"
      },
      "source": [
        "'Pi vale   3.1416'\n",
        "\n",
        "\n",
        "\n",
        "\n",
        "\n",
        "\n",
        "\n",
        "7. Otras funcionalidades de la clase str\n",
        "\n",
        "\n",
        "\n",
        "\n",
        "\n",
        "\n",
        "\n",
        "Para más información consultar la documentación oficial de python:\n",
        "\n",
        "\n",
        "\n",
        "\n",
        "\n",
        "\n",
        "\n",
        "https://docs.python.org/3/library/stdtypes.html#text-sequence-type-str"
      ]
    }
  ],
  "metadata": {
    "kernelspec": {
      "display_name": "Python 3",
      "language": "python",
      "name": "python3"
    },
    "language_info": {
      "name": "python",
      "version": "3.11"
    },
    "colab": {
      "provenance": []
    }
  },
  "nbformat": 4,
  "nbformat_minor": 5
}