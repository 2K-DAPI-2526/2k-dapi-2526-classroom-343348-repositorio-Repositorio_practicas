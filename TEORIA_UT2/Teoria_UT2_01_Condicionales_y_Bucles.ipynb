{
  "cells": [
    {
      "cell_type": "markdown",
      "id": "17d9e066",
      "metadata": {
        "id": "17d9e066"
      },
      "source": [
        "# UT2 - Condicionales y bucles"
      ]
    },
    {
      "cell_type": "code",
      "execution_count": null,
      "id": "5a2bf5e6",
      "metadata": {
        "id": "5a2bf5e6"
      },
      "outputs": [],
      "source": [
        "1. Condicionales (if)\n",
        "#\n",
        "if condición1:\n",
        "#"
      ]
    },
    {
      "cell_type": "markdown",
      "id": "8fd77891",
      "metadata": {
        "id": "8fd77891"
      },
      "source": [
        "bloque código\n",
        "\n",
        "\n",
        "\n",
        "elif condición2:\n",
        "\n",
        "\n",
        "\n",
        "bloque código\n",
        "\n",
        "\n",
        "\n",
        "…\n",
        "\n",
        "\n",
        "\n",
        "else:\n",
        "\n",
        "\n",
        "\n",
        "bloque código\n",
        "\n",
        "\n",
        "\n",
        "\n",
        "\n",
        "\n",
        "\n",
        "Evalúa la expresión lógica condición1 y ejecuta el primer bloque de código si es True; si no, evalúa la siguientes condiciones hasta llegar a la primera que es True y ejecuta el bloque de código asociado. Si ninguna condición es True ejecuta el bloque de código después de else:.\n",
        "\n",
        "\n",
        "\n",
        "\n",
        "\n",
        "\n",
        "\n",
        "Pueden aparecer varios bloques elif pero solo uno else al final.\n",
        "> **Ojo:** Los bloques de código deben estar indentados por 4 espacios.\n",
        "\n",
        "\n",
        "\n",
        "\n",
        "\n",
        "\n",
        "\n",
        "La instrucción condicional permite evaluar el estado del programa y tomar decisiones sobre qué código ejecutar en función del mismo."
      ]
    },
    {
      "cell_type": "code",
      "execution_count": null,
      "id": "35e2d7d9",
      "metadata": {
        "id": "35e2d7d9"
      },
      "outputs": [],
      "source": [
        "edad = 14\n",
        "#\n",
        "if edad < 18 :\n",
        "#\n",
        "print('Menor')\n",
        "#\n",
        "elif edad > 65:\n",
        "#\n",
        "print('Jubilado')\n",
        "#"
      ]
    },
    {
      "cell_type": "markdown",
      "id": "94d8428a",
      "metadata": {
        "id": "94d8428a"
      },
      "source": [
        "else:"
      ]
    },
    {
      "cell_type": "code",
      "execution_count": null,
      "id": "568bc659",
      "metadata": {
        "id": "568bc659"
      },
      "outputs": [],
      "source": [
        "print('Activo')\n",
        "#\n",
        "2. Bucles condicionales (while)\n",
        "#\n",
        "while condición:\n",
        "#"
      ]
    },
    {
      "cell_type": "markdown",
      "id": "1ee2fe18",
      "metadata": {
        "id": "1ee2fe18"
      },
      "source": [
        "bloque código\n",
        "\n",
        "\n",
        "\n",
        "\n",
        "\n",
        "\n",
        "\n",
        "Repite la ejecución del bloque de código mientras la expresión lógica condición sea cierta.\n",
        "\n",
        "\n",
        "\n",
        "\n",
        "\n",
        "\n",
        "\n",
        "Se puede interrumpir en cualquier momento la ejecución del bloque de código con la instrucción break.\n",
        "> **Ojo:** El bloque de código debe estar indentado por 4 espacios."
      ]
    },
    {
      "cell_type": "code",
      "execution_count": null,
      "id": "ac39e745",
      "metadata": {
        "id": "ac39e745"
      },
      "outputs": [],
      "source": [
        "# Pregunta al usuario por un número hasta que introduce 0.\n",
        "#\n",
        "num = None\n",
        "#\n",
        "while num != 0:\n",
        "#"
      ]
    },
    {
      "cell_type": "markdown",
      "id": "5695d641",
      "metadata": {
        "id": "5695d641"
      },
      "source": [
        "num = int(input('Introduce un número: '))\n",
        "\n",
        "\n",
        "\n",
        "\n",
        "\n",
        "\n",
        "\n",
        "Alternativa:"
      ]
    },
    {
      "cell_type": "code",
      "execution_count": null,
      "id": "f3b126fb",
      "metadata": {
        "id": "f3b126fb"
      },
      "outputs": [],
      "source": [
        "# Pregunta al usuario por un número hasta que introduce 0.\n",
        "#\n",
        "while True:\n",
        "#"
      ]
    },
    {
      "cell_type": "markdown",
      "id": "c9ae697a",
      "metadata": {
        "id": "c9ae697a"
      },
      "source": [
        "num = int(input('Introduce un número: '))"
      ]
    },
    {
      "cell_type": "code",
      "execution_count": null,
      "id": "c54ae1cb",
      "metadata": {
        "id": "c54ae1cb"
      },
      "outputs": [],
      "source": [
        "if num == 0:\n",
        "#"
      ]
    },
    {
      "cell_type": "markdown",
      "id": "6562b645",
      "metadata": {
        "id": "6562b645"
      },
      "source": [
        "break"
      ]
    },
    {
      "cell_type": "code",
      "execution_count": null,
      "id": "8ac051d5",
      "metadata": {
        "id": "8ac051d5"
      },
      "outputs": [],
      "source": [
        "3. Bucles iterativos (for)\n",
        "#\n",
        "for i in secuencia:\n",
        "#"
      ]
    },
    {
      "cell_type": "markdown",
      "id": "259aa455",
      "metadata": {
        "id": "259aa455"
      },
      "source": [
        "bloque código\n",
        "\n",
        "\n",
        "\n",
        "\n",
        "\n",
        "\n",
        "\n",
        "Repite la ejecución del bloque de código para cada elemento de la secuencia, asignando dicho elemento a i en cada repetición.\n",
        "\n",
        "\n",
        "\n",
        "\n",
        "\n",
        "\n",
        "\n",
        "Se puede interrumpir en cualquier momento la ejecución del bloque de código con la instrucción break o saltar la ejecución para un determinado elemento de la secuencia con la instrucción continue.\n",
        "> **Ojo:** El bloque de código debe estar indentado por 4 espacios.\n",
        "\n",
        "\n",
        "\n",
        "\n",
        "\n",
        "\n",
        "\n",
        "Se utiliza fundamentalmente para recorrer colecciones de objetos como cadenas, listas, tuplas o diccionarios.\n",
        "\n",
        "\n",
        "\n",
        "\n",
        "\n",
        "\n",
        "\n",
        "A menudo se usan con la instrucción range:\n",
        "\n",
        "\n",
        "\n",
        "\n",
        "\n",
        "\n",
        "\n",
        "range(fin) : Genera una secuencia de números enteros desde 0 hasta fin-1.\n",
        "\n",
        "\n",
        "\n",
        "range(inicio, fin, salto) : Genera una secuencia de números enteros desde inicio hasta fin-1 con un incremento de salto."
      ]
    },
    {
      "cell_type": "code",
      "execution_count": null,
      "id": "1c6e4116",
      "metadata": {
        "id": "1c6e4116"
      },
      "outputs": [],
      "source": [
        "palabra = 'Python'\n",
        "#\n",
        "for letra in palabra:\n",
        "#\n",
        "print(letra)\n",
        "#"
      ]
    },
    {
      "cell_type": "code",
      "execution_count": null,
      "id": "5157e1a9",
      "metadata": {
        "id": "5157e1a9"
      },
      "outputs": [],
      "source": [
        "for i in range(1, 10, 2):\n",
        "#\n",
        "print(i, end=\", \")\n",
        "#"
      ]
    }
  ],
  "metadata": {
    "kernelspec": {
      "display_name": "Python 3",
      "language": "python",
      "name": "python3"
    },
    "language_info": {
      "name": "python",
      "version": "3.11"
    },
    "colab": {
      "provenance": []
    }
  },
  "nbformat": 4,
  "nbformat_minor": 5
}