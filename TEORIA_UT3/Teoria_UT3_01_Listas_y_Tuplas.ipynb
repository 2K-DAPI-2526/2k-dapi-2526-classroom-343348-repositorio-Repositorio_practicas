{
  "cells": [
    {
      "cell_type": "markdown",
      "id": "64e57cfa",
      "metadata": {
        "id": "64e57cfa"
      },
      "source": [
        "# UT2 · 03 Listas y tuplas"
      ]
    },
    {
      "cell_type": "markdown",
      "id": "8dcb3596",
      "metadata": {
        "id": "8dcb3596"
      },
      "source": [
        "1. Listas\n",
        "\n",
        "\n",
        "\n",
        "Una lista es una secuencia ordenada de objetos de distintos tipos."
      ]
    },
    {
      "cell_type": "code",
      "execution_count": null,
      "id": "307f17bd",
      "metadata": {
        "id": "307f17bd"
      },
      "outputs": [],
      "source": [
        "Se construyen poniendo los elementos entre corchetes [ ] separados por comas.\n",
        "#"
      ]
    },
    {
      "cell_type": "markdown",
      "id": "7a557560",
      "metadata": {
        "id": "7a557560"
      },
      "source": [
        "Se caracterizan por:\n",
        "\n",
        "\n",
        "\n",
        "Tienen orden.\n",
        "\n",
        "\n",
        "\n",
        "Pueden contener elementos de distintos tipos.\n",
        "\n",
        "\n",
        "\n",
        "Son mutables, es decir, pueden alterarse durante la ejecución de un programa."
      ]
    },
    {
      "cell_type": "code",
      "execution_count": null,
      "id": "a726c60f",
      "metadata": {
        "id": "a726c60f"
      },
      "outputs": [],
      "source": [
        "# Lista vacía\n",
        "#\n",
        "type([])\n",
        "#\n",
        "<class 'list'>\n",
        "#\n",
        "# Lista con elementos de distintos tipos\n",
        "#\n",
        "[1, \"dos\", True]\n",
        "#\n",
        "# Listas anidadas\n",
        "#\n",
        "[1, [2, 3], 4]\n",
        "#"
      ]
    },
    {
      "cell_type": "markdown",
      "id": "a1998b6e",
      "metadata": {
        "id": "a1998b6e"
      },
      "source": [
        "1.1. Creación de listas mediante la función list()\n",
        "\n",
        "\n",
        "\n",
        "Otra forma de crear listas es mediante la función list().\n",
        "\n",
        "\n",
        "\n",
        "\n",
        "\n",
        "\n",
        "\n",
        "list(c) : Crea una lista con los elementos de la secuencia o colección c.\n",
        "\n",
        "\n",
        "\n",
        "\n",
        "\n",
        "\n",
        "\n",
        "Se pueden indicar los elementos mediante una cadena o mediante una colección de elementos iterables."
      ]
    },
    {
      "cell_type": "code",
      "execution_count": null,
      "id": "a0a29fb8",
      "metadata": {
        "id": "a0a29fb8"
      },
      "outputs": [],
      "source": [
        "list()\n",
        "#\n",
        "[]\n",
        "#\n",
        "list(\"Python\")\n",
        "#\n",
        "['P', 'y', 't', 'h', 'o', 'n']\n",
        "#"
      ]
    },
    {
      "cell_type": "markdown",
      "id": "6719e8d0",
      "metadata": {
        "id": "6719e8d0"
      },
      "source": [
        "1.2. Acceso a los elementos de una lista\n",
        "\n",
        "\n",
        "\n",
        "Se utilizan los mismos operadores de acceso que para cadenas de caracteres.\n",
        "\n",
        "\n",
        "\n",
        "\n",
        "\n",
        "\n",
        "\n",
        "lst[i] : Devuelve el elemento de la lista lst con el índice i.\n",
        "> **Ojo:** El índice del primer elemento de la lista es 0."
      ]
    },
    {
      "cell_type": "code",
      "execution_count": null,
      "id": "db68f337",
      "metadata": {
        "id": "db68f337"
      },
      "outputs": [],
      "source": [
        "a = ['P', 'y', 't', 'h', 'o', 'n']\n",
        "#\n",
        "a[0]\n",
        "#"
      ]
    },
    {
      "cell_type": "markdown",
      "id": "eefba695",
      "metadata": {
        "id": "eefba695"
      },
      "source": [
        "'P'"
      ]
    },
    {
      "cell_type": "code",
      "execution_count": null,
      "id": "cff1f25e",
      "metadata": {
        "id": "cff1f25e"
      },
      "outputs": [],
      "source": [
        "a[5]\n",
        "#"
      ]
    },
    {
      "cell_type": "markdown",
      "id": "25ed6ff4",
      "metadata": {
        "id": "25ed6ff4"
      },
      "source": [
        "'n'"
      ]
    },
    {
      "cell_type": "code",
      "execution_count": null,
      "id": "9df85bba",
      "metadata": {
        "id": "9df85bba"
      },
      "outputs": [],
      "source": [
        "a[6]\n",
        "#\n",
        "Traceback (most recent call last):\n",
        "#\n",
        "File \"<stdin>\", line 1, in <module>\n",
        "#"
      ]
    },
    {
      "cell_type": "markdown",
      "id": "76a2e59b",
      "metadata": {
        "id": "76a2e59b"
      },
      "source": [
        "IndexError: list index out of range"
      ]
    },
    {
      "cell_type": "code",
      "execution_count": null,
      "id": "d3b37716",
      "metadata": {
        "id": "d3b37716"
      },
      "outputs": [],
      "source": [
        "a[-1]\n",
        "#"
      ]
    },
    {
      "cell_type": "markdown",
      "id": "77592bff",
      "metadata": {
        "id": "77592bff"
      },
      "source": [
        "'n'\n",
        "\n",
        "\n",
        "\n",
        "\n",
        "\n",
        "\n",
        "\n",
        "1.3. Sublistas\n",
        "\n",
        "\n",
        "\n",
        "l[i:j:k] : Devuelve la sublista desde el elemento de l con el índice i hasta el elemento anterior al índice j, tomando elementos cada k."
      ]
    },
    {
      "cell_type": "code",
      "execution_count": null,
      "id": "16b50553",
      "metadata": {
        "id": "16b50553",
        "outputId": "1e86a802-dbfa-4b6c-d3c2-64637465fae3",
        "colab": {
          "base_uri": "https://localhost:8080/"
        }
      },
      "outputs": [
        {
          "output_type": "execute_result",
          "data": {
            "text/plain": [
              "['P', 'y', 't']"
            ]
          },
          "metadata": {},
          "execution_count": 1
        }
      ],
      "source": [
        "a = ['P', 'y', 't', 'h', 'o', 'n']\n",
        "#\n",
        "a[1:4]\n",
        "#\n",
        "['y', 't', 'h']\n",
        "#\n",
        "a[1:1]\n",
        "#\n",
        "[]\n",
        "#\n",
        "a[:-3]\n",
        "#"
      ]
    },
    {
      "cell_type": "markdown",
      "id": "bd169327",
      "metadata": {
        "id": "bd169327"
      },
      "source": [
        "[‘P’, 'y', 't', 'h']"
      ]
    },
    {
      "cell_type": "code",
      "execution_count": null,
      "id": "60e6c60f",
      "metadata": {
        "id": "60e6c60f"
      },
      "outputs": [],
      "source": [
        "a[:]\n",
        "#\n",
        "['P', 'y', 't', 'h', 'o', 'n']\n",
        "#\n",
        "a[0:6:2]\n",
        "#\n",
        "['P', 't', 'o']\n",
        "#"
      ]
    },
    {
      "cell_type": "markdown",
      "id": "779c5ea8",
      "metadata": {
        "id": "779c5ea8"
      },
      "source": [
        "1.4. Operaciones que no modifican una lista\n",
        "\n",
        "\n",
        "\n",
        "len(lst) : Devuelve el número de elementos de la lista lst.\n",
        "\n",
        "\n",
        "\n",
        "min(lst) : Devuelve el mínimo elemento de la lista lst siempre que los datos sean comparables.\n",
        "\n",
        "\n",
        "\n",
        "max(lst) : Devuelve el máximo elemento de la lista lst siempre que los datos sean comparables."
      ]
    },
    {
      "cell_type": "code",
      "execution_count": null,
      "id": "b5a93468",
      "metadata": {
        "id": "b5a93468"
      },
      "outputs": [],
      "source": [
        "sum(lst) : Devuelve la suma de los elementos de la lista lst, siempre que los datos se puedan sumar.\n",
        "#"
      ]
    },
    {
      "cell_type": "markdown",
      "id": "b22740c5",
      "metadata": {
        "id": "b22740c5"
      },
      "source": [
        "dato in lst : Devuelve True si el dato pertenece a la lista lst y False en caso contrario.\n",
        "\n",
        "\n",
        "\n",
        "lst.index(dato) : Devuelve la posición que ocupa en la lista lst el primer elemento con valor dato.\n",
        "\n",
        "\n",
        "\n",
        "lst.count(dato) : Devuelve el número de veces que el valor dato está contenido en la lista lst."
      ]
    },
    {
      "cell_type": "code",
      "execution_count": null,
      "id": "50624971",
      "metadata": {
        "id": "50624971"
      },
      "outputs": [],
      "source": [
        "all(lst) : Devuelve True si todos los elementos de la lista lst son True y False en caso contrario.\n",
        "#"
      ]
    },
    {
      "cell_type": "markdown",
      "id": "d831b522",
      "metadata": {
        "id": "d831b522"
      },
      "source": [
        "any(lst) : Devuelve True si algún elemento de la lista lst es True y False en caso contrario."
      ]
    },
    {
      "cell_type": "code",
      "execution_count": null,
      "id": "97335679",
      "metadata": {
        "id": "97335679"
      },
      "outputs": [],
      "source": [
        "a = [1, 2, 2, 3]\n",
        "#\n",
        "len(a)\n",
        "#"
      ]
    },
    {
      "cell_type": "markdown",
      "id": "88c02bae",
      "metadata": {
        "id": "88c02bae"
      },
      "source": [
        "4"
      ]
    },
    {
      "cell_type": "code",
      "execution_count": null,
      "id": "9edb51ba",
      "metadata": {
        "id": "9edb51ba"
      },
      "outputs": [],
      "source": [
        "min(a)\n",
        "#"
      ]
    },
    {
      "cell_type": "markdown",
      "id": "7ece2256",
      "metadata": {
        "id": "7ece2256"
      },
      "source": [
        "1"
      ]
    },
    {
      "cell_type": "code",
      "execution_count": null,
      "id": "496daa6b",
      "metadata": {
        "id": "496daa6b"
      },
      "outputs": [],
      "source": [
        "max(a)\n",
        "#"
      ]
    },
    {
      "cell_type": "markdown",
      "id": "cffdca7a",
      "metadata": {
        "id": "cffdca7a"
      },
      "source": [
        "3"
      ]
    },
    {
      "cell_type": "code",
      "execution_count": null,
      "id": "7780a73c",
      "metadata": {
        "id": "7780a73c"
      },
      "outputs": [],
      "source": [
        "sum(a)\n",
        "#"
      ]
    },
    {
      "cell_type": "markdown",
      "id": "c81814c2",
      "metadata": {
        "id": "c81814c2"
      },
      "source": [
        "8"
      ]
    },
    {
      "cell_type": "code",
      "execution_count": null,
      "id": "f61a24c0",
      "metadata": {
        "id": "f61a24c0"
      },
      "outputs": [],
      "source": [
        "3 in a\n",
        "#"
      ]
    },
    {
      "cell_type": "markdown",
      "id": "26974fd2",
      "metadata": {
        "id": "26974fd2"
      },
      "source": [
        "True"
      ]
    },
    {
      "cell_type": "code",
      "execution_count": null,
      "id": "b9e9fda5",
      "metadata": {
        "id": "b9e9fda5"
      },
      "outputs": [],
      "source": [
        "a.index(2)\n",
        "#"
      ]
    },
    {
      "cell_type": "markdown",
      "id": "7173d7b8",
      "metadata": {
        "id": "7173d7b8"
      },
      "source": [
        "1"
      ]
    },
    {
      "cell_type": "code",
      "execution_count": null,
      "id": "5c004d2d",
      "metadata": {
        "id": "5c004d2d"
      },
      "outputs": [],
      "source": [
        "a.count(2)\n",
        "#"
      ]
    },
    {
      "cell_type": "markdown",
      "id": "866578fb",
      "metadata": {
        "id": "866578fb"
      },
      "source": [
        "2"
      ]
    },
    {
      "cell_type": "code",
      "execution_count": null,
      "id": "23021b3b",
      "metadata": {
        "id": "23021b3b"
      },
      "outputs": [],
      "source": [
        "all(a)\n",
        "#"
      ]
    },
    {
      "cell_type": "markdown",
      "id": "436da480",
      "metadata": {
        "id": "436da480"
      },
      "source": [
        "True"
      ]
    },
    {
      "cell_type": "code",
      "execution_count": null,
      "id": "46259fbb",
      "metadata": {
        "id": "46259fbb"
      },
      "outputs": [],
      "source": [
        "any([0, False, 3<2])\n",
        "#"
      ]
    },
    {
      "cell_type": "markdown",
      "id": "9a577103",
      "metadata": {
        "id": "9a577103"
      },
      "source": [
        "False\n",
        "\n",
        "\n",
        "\n",
        "\n",
        "\n",
        "\n",
        "\n",
        "1.5. Operaciones que modifican una lista"
      ]
    },
    {
      "cell_type": "code",
      "execution_count": null,
      "id": "7df39881",
      "metadata": {
        "id": "7df39881"
      },
      "outputs": [],
      "source": [
        "l1 + l2 : Crea una nueva lista concatenan los elementos de la listas l1 y l2.\n",
        "#"
      ]
    },
    {
      "cell_type": "markdown",
      "id": "118a71fa",
      "metadata": {
        "id": "118a71fa"
      },
      "source": [
        "l.append(dato) : Añade dato al final de la lista l.\n",
        "\n",
        "\n",
        "\n",
        "l.extend(secuencia) : Añade los datos de secuencia al final de la lista l.\n",
        "\n",
        "\n",
        "\n",
        "l.insert(índice, dato) : Inserta dato en la posición índice de la lista l y desplaza los elementos una posición a partir de la posición índice.\n",
        "\n",
        "\n",
        "\n",
        "l.remove(dato) : Elimina el primer elemento con valor dato en la lista l y desplaza los que están por detrás de él una posición hacia delante.\n",
        "\n",
        "\n",
        "\n",
        "l.pop([índice]) : Devuelve el dato en la posición índice y lo elimina de la lista l, desplazando los elementos por detrás de él una posición hacia delante."
      ]
    },
    {
      "cell_type": "code",
      "execution_count": null,
      "id": "5f3de8c4",
      "metadata": {
        "id": "5f3de8c4"
      },
      "outputs": [],
      "source": [
        "l.sort() : Ordena los elementos de la lista l de acuerdo al orden predefinido, siempre que los elementos sean comparables.\n",
        "#\n",
        "l.reverse() : invierte el orden de los elementos de la lista l.\n",
        "#"
      ]
    },
    {
      "cell_type": "code",
      "execution_count": null,
      "id": "6125e46c",
      "metadata": {
        "id": "6125e46c"
      },
      "outputs": [],
      "source": [
        "a = [1, 3]\n",
        "#\n",
        "b = [2 , 4, 6]\n",
        "#\n",
        "a.append(5)\n",
        "#\n",
        "a\n",
        "#\n",
        "[1, 3, 5]\n",
        "#\n",
        "a.remove(3)\n",
        "#\n",
        "a\n",
        "#\n",
        "[1, 5]\n",
        "#\n",
        "a.insert(1, 3)\n",
        "#\n",
        "a\n",
        "#\n",
        "[1, 3, 5]\n",
        "#\n",
        "b.pop()\n",
        "#"
      ]
    },
    {
      "cell_type": "markdown",
      "id": "b8254508",
      "metadata": {
        "id": "b8254508"
      },
      "source": [
        "6"
      ]
    },
    {
      "cell_type": "code",
      "execution_count": null,
      "id": "39551c6e",
      "metadata": {
        "id": "39551c6e"
      },
      "outputs": [],
      "source": [
        "c = a + b\n",
        "#\n",
        "c\n",
        "#\n",
        "[1, 3, 5, 2, 4]\n",
        "#\n",
        "c.sort()\n",
        "#\n",
        "c\n",
        "#\n",
        "[1, 2, 3, 4, 5]\n",
        "#\n",
        "c.reverse()\n",
        "#\n",
        "c\n",
        "#\n",
        "[5, 4, 3, 2, 1]\n",
        "#"
      ]
    },
    {
      "cell_type": "markdown",
      "id": "1585962c",
      "metadata": {
        "id": "1585962c"
      },
      "source": [
        "1.6. Copia de listas\n",
        "\n",
        "\n",
        "\n",
        "Existen dos formas de copiar listas:\n",
        "\n",
        "\n",
        "\n",
        "Copia por referencia l1 = l2: Asocia a la variable l1 la misma lista que tiene asociada la variable l2, es decir, ambas variables apuntan a la misma dirección de memoria. Cualquier cambio que hagamos a través de l1 o l2 afectará a la misma lista.\n",
        "\n",
        "\n",
        "\n",
        "Copia por valor l1 = list(l2): Crea una copia de la lista asociada a l2 en una dirección de memoria diferente y se la asocia a l1. Las variables apuntan a direcciones de memoria diferentes que contienen los mismos datos. Cualquier cambio que hagamos a través de l1 no afectará a la lista de l2 y viceversa."
      ]
    },
    {
      "cell_type": "code",
      "execution_count": null,
      "id": "2e022f01",
      "metadata": {
        "id": "2e022f01"
      },
      "outputs": [],
      "source": [
        "a = [1, 2, 3]\n",
        "#\n",
        "# copia por referencia\n",
        "#\n",
        "b = a\n",
        "#\n",
        "b\n",
        "#\n",
        "[1, 2, 3]\n",
        "#\n",
        "b.remove(2)\n",
        "#\n",
        "b\n",
        "#\n",
        "[1, 3]\n",
        "#\n",
        "a\n",
        "#\n",
        "[1, 3]\n",
        "#"
      ]
    },
    {
      "cell_type": "code",
      "execution_count": null,
      "id": "ad44e355",
      "metadata": {
        "id": "ad44e355"
      },
      "outputs": [],
      "source": [
        "a = [1, 2, 3]\n",
        "#\n",
        "# copia por valor\n",
        "#\n",
        "b = list(a)\n",
        "#\n",
        "b\n",
        "#\n",
        "[1, 2, 3]\n",
        "#\n",
        "b.remove(2)\n",
        "#\n",
        "b\n",
        "#\n",
        "[1, 3]\n",
        "#\n",
        "a\n",
        "#\n",
        "[1, 2, 3]\n",
        "#"
      ]
    },
    {
      "cell_type": "markdown",
      "id": "0b7302c7",
      "metadata": {
        "id": "0b7302c7"
      },
      "source": [
        "2. Tuplas\n",
        "\n",
        "\n",
        "\n",
        "Una tupla es una secuencias ordenadas de objetos de distintos tipos.\n",
        "\n",
        "\n",
        "\n",
        "\n",
        "\n",
        "\n",
        "\n",
        "Se construyen poniendo los elementos entre paréntesis ( ) separados por comas.\n",
        "\n",
        "\n",
        "\n",
        "\n",
        "\n",
        "\n",
        "\n",
        "Se caracterizan por:\n",
        "\n",
        "\n",
        "\n",
        "Tienen orden.\n",
        "\n",
        "\n",
        "\n",
        "Pueden contener elementos de distintos tipos.\n",
        "\n",
        "\n",
        "\n",
        "Son inmutables, es decir, no pueden alterarse durante la ejecución de un programa.\n",
        "\n",
        "\n",
        "\n",
        "\n",
        "\n",
        "\n",
        "\n",
        "Se usan habitualmente para representar colecciones de datos de una determinada estructura semántica, como por ejemplo un vector o una matriz."
      ]
    },
    {
      "cell_type": "code",
      "execution_count": null,
      "id": "18d8f59e",
      "metadata": {
        "id": "18d8f59e"
      },
      "outputs": [],
      "source": [
        "# Tupla vacía\n",
        "#\n",
        "type(())\n",
        "#\n",
        "<class 'tuple'>\n",
        "#\n",
        "# Tupla con elementos de distintos tipos\n",
        "#\n",
        "(1, \"dos\", True)\n",
        "#\n",
        "# Vector\n",
        "#\n",
        "(1, 2, 3)\n",
        "#\n",
        "# Matriz\n",
        "#\n",
        "((1, 2, 3), (4, 5, 6))\n",
        "#"
      ]
    },
    {
      "cell_type": "markdown",
      "id": "e0573130",
      "metadata": {
        "id": "e0573130"
      },
      "source": [
        "2.1. Creación de tuplas mediante la función tuple()\n",
        "\n",
        "\n",
        "\n",
        "Otra forma de crear tuplas es mediante la función tuple().\n",
        "\n",
        "\n",
        "\n",
        "\n",
        "\n",
        "\n",
        "\n",
        "tuple(c) : Crea una tupla con los elementos de la secuencia o colección c.\n",
        "\n",
        "\n",
        "\n",
        "\n",
        "\n",
        "\n",
        "\n",
        "Se pueden indicar los elementos separados por comas, mediante una cadena, o mediante una colección de elementos iterables."
      ]
    },
    {
      "cell_type": "code",
      "execution_count": null,
      "id": "becfdee2",
      "metadata": {
        "id": "becfdee2"
      },
      "outputs": [],
      "source": [
        "tuple()\n",
        "#\n",
        "()\n",
        "#\n",
        "tuple(1, 2, 3)\n",
        "#\n",
        "(1, 2, 3)\n",
        "#\n",
        "tuple(\"Python\")\n",
        "#\n",
        "('P', 'y', 't', 'h', 'o', 'n')\n",
        "#\n",
        "tuple([1, 2, 3])\n",
        "#\n",
        "(1, 2, 3)\n",
        "#"
      ]
    },
    {
      "cell_type": "markdown",
      "id": "8a55d84d",
      "metadata": {
        "id": "8a55d84d"
      },
      "source": [
        "2.2. Operaciones con tuplas\n",
        "\n",
        "\n",
        "\n",
        "El acceso a los elementos de una tupla se realiza del mismo modo que en las listas. También se pueden obtener sub-tuplas de la misma manera que las sub-listas.\n",
        "\n",
        "\n",
        "\n",
        "\n",
        "\n",
        "\n",
        "\n",
        "Las operaciones de listas que no modifican la lista también son aplicables a las tuplas."
      ]
    },
    {
      "cell_type": "code",
      "execution_count": null,
      "id": "edfb5250",
      "metadata": {
        "id": "edfb5250"
      },
      "outputs": [],
      "source": [
        "a = (1, 2, 3)\n",
        "#\n",
        "a[1]\n",
        "#"
      ]
    },
    {
      "cell_type": "markdown",
      "id": "c2367c7a",
      "metadata": {
        "id": "c2367c7a"
      },
      "source": [
        "2"
      ]
    },
    {
      "cell_type": "code",
      "execution_count": null,
      "id": "1b83f8e4",
      "metadata": {
        "id": "1b83f8e4"
      },
      "outputs": [],
      "source": [
        "len(a)\n",
        "#"
      ]
    },
    {
      "cell_type": "markdown",
      "id": "4f1530fe",
      "metadata": {
        "id": "4f1530fe"
      },
      "source": [
        "3"
      ]
    },
    {
      "cell_type": "code",
      "execution_count": null,
      "id": "7109a80e",
      "metadata": {
        "id": "7109a80e"
      },
      "outputs": [],
      "source": [
        "a.index(3)\n",
        "#"
      ]
    },
    {
      "cell_type": "markdown",
      "id": "07c779f5",
      "metadata": {
        "id": "07c779f5"
      },
      "source": [
        "2"
      ]
    },
    {
      "cell_type": "code",
      "execution_count": null,
      "id": "bab339cc",
      "metadata": {
        "id": "bab339cc"
      },
      "outputs": [],
      "source": [
        "0 in a\n",
        "#"
      ]
    },
    {
      "cell_type": "markdown",
      "id": "c529bee3",
      "metadata": {
        "id": "c529bee3"
      },
      "source": [
        "False"
      ]
    },
    {
      "cell_type": "code",
      "execution_count": null,
      "id": "d2acdf31",
      "metadata": {
        "id": "d2acdf31"
      },
      "outputs": [],
      "source": [
        "b = ((1, 2, 3), (4, 5, 6))\n",
        "#\n",
        "b[1]\n",
        "#\n",
        "(4, 5, 6)\n",
        "#\n",
        "b[1][2]\n",
        "#"
      ]
    },
    {
      "cell_type": "markdown",
      "id": "815ec421",
      "metadata": {
        "id": "815ec421"
      },
      "source": [
        "6"
      ]
    }
  ],
  "metadata": {
    "kernelspec": {
      "display_name": "Python 3",
      "language": "python",
      "name": "python3"
    },
    "language_info": {
      "name": "python",
      "version": "3.11"
    },
    "colab": {
      "provenance": []
    }
  },
  "nbformat": 4,
  "nbformat_minor": 5
}