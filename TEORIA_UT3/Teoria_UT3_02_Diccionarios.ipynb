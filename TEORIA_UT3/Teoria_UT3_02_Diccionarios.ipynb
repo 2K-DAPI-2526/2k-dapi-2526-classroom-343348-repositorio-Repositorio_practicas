{
  "cells": [
    {
      "cell_type": "markdown",
      "id": "c31aa042",
      "metadata": {
        "id": "c31aa042"
      },
      "source": [
        "# UT2 · 04 Diccionarios"
      ]
    },
    {
      "cell_type": "markdown",
      "id": "a8522b8c",
      "metadata": {
        "id": "a8522b8c"
      },
      "source": [
        "1. Diccionarios\n",
        "\n",
        "\n",
        "\n",
        "Un diccionario es una colección de pares formados por una clave y un valor asociado a la clave."
      ]
    },
    {
      "cell_type": "code",
      "execution_count": null,
      "id": "a075b26e",
      "metadata": {
        "id": "a075b26e"
      },
      "outputs": [],
      "source": [
        "Se construyen poniendo los pares entre llaves { } separados por comas , y separando la clave del valor con dos puntos :\n",
        "#"
      ]
    },
    {
      "cell_type": "markdown",
      "id": "2a1c4d75",
      "metadata": {
        "id": "2a1c4d75"
      },
      "source": [
        "Se caracterizan por:\n",
        "\n",
        "\n",
        "\n",
        "\n",
        "\n",
        "\n",
        "\n",
        "No tienen orden.\n",
        "\n",
        "\n",
        "\n",
        "Pueden contener elementos de distintos tipos.\n",
        "\n",
        "\n",
        "\n",
        "Son mutables, es decir, pueden alterarse durante la ejecución de un programa.\n",
        "\n",
        "\n",
        "\n",
        "Las claves son únicas, es decir, no pueden repetirse en un mismo diccionario, y pueden ser de cualquier tipo de datos inmutable."
      ]
    },
    {
      "cell_type": "code",
      "execution_count": null,
      "id": "ea162b8a",
      "metadata": {
        "id": "ea162b8a"
      },
      "outputs": [],
      "source": [
        "# Diccionario vacío\n",
        "#\n",
        "type({})\n",
        "#\n",
        "<class 'dict'>\n",
        "#\n",
        "# Diccionario con elementos de distintos tipos\n",
        "#"
      ]
    },
    {
      "cell_type": "markdown",
      "id": "153c3f1a",
      "metadata": {
        "id": "153c3f1a"
      },
      "source": [
        "{'nombre':'Ramón', 'despacho': 218, 'email':'rugartealb@educacion.navarra.es'}"
      ]
    },
    {
      "cell_type": "code",
      "execution_count": null,
      "id": "48197a4a",
      "metadata": {
        "id": "48197a4a"
      },
      "outputs": [],
      "source": [
        "# Diccionarios anidados\n",
        "#"
      ]
    },
    {
      "cell_type": "markdown",
      "id": "b5d4508a",
      "metadata": {
        "id": "b5d4508a"
      },
      "source": [
        "{'nombre_completo':{'nombre': 'Ramón', 'Apellidos': 'Ugarte Albizu'}}\n",
        "\n",
        "\n",
        "\n",
        "\n",
        "\n",
        "\n",
        "\n",
        "1.1. Acceso a los elementos de un diccionario"
      ]
    },
    {
      "cell_type": "code",
      "execution_count": null,
      "id": "52b96804",
      "metadata": {
        "id": "52b96804"
      },
      "outputs": [],
      "source": [
        "dictionary[clave] devuelve el valor del diccionario dictionary asociado a la clave clave. Si en el diccionario no existe esa clave devuelve un error.\n",
        "#\n",
        "dictionary.get(clave, valor) devuelve el valor del diccionario dictionary asociado a la clave clave. Si en el diccionario no existe esa clave devuelve valor, y si no se especifica un valor por defecto devuelve None.\n",
        "#"
      ]
    },
    {
      "cell_type": "code",
      "execution_count": null,
      "id": "8f050628",
      "metadata": {
        "id": "8f050628"
      },
      "outputs": [],
      "source": [
        "dictionary= {'nombre':'Ramón', 'despacho': 218, 'email':'rugartealb@educacion.navarra.es'}\n",
        "#\n",
        "dictionary['nombre']\n",
        "#"
      ]
    },
    {
      "cell_type": "markdown",
      "id": "f81ef037",
      "metadata": {
        "id": "f81ef037"
      },
      "source": [
        "'Ramón'"
      ]
    },
    {
      "cell_type": "code",
      "execution_count": null,
      "id": "37570563",
      "metadata": {
        "id": "37570563"
      },
      "outputs": [],
      "source": [
        "dictionary['despacho'] = 210\n",
        "#\n",
        "dictionary\n",
        "#"
      ]
    },
    {
      "cell_type": "markdown",
      "id": "97692960",
      "metadata": {
        "id": "97692960"
      },
      "source": [
        "{'nombre':'Ramón', 'despacho': 210, 'email':'rugartealb@educacion.navarra.es'}"
      ]
    },
    {
      "cell_type": "code",
      "execution_count": null,
      "id": "55248d32",
      "metadata": {
        "id": "55248d32"
      },
      "outputs": [],
      "source": [
        "dictionary.get('email')\n",
        "#"
      ]
    },
    {
      "cell_type": "markdown",
      "id": "5a9e8232",
      "metadata": {
        "id": "5a9e8232"
      },
      "source": [
        "'rugartealb@educacion.navarra.es'"
      ]
    },
    {
      "cell_type": "code",
      "execution_count": null,
      "id": "7e914f20",
      "metadata": {
        "id": "7e914f20"
      },
      "outputs": [],
      "source": [
        "dictionary.get('centro', 'Donapea')\n",
        "#"
      ]
    },
    {
      "cell_type": "markdown",
      "id": "3b3133cf",
      "metadata": {
        "id": "3b3133cf"
      },
      "source": [
        "'Donapea'\n",
        "\n",
        "\n",
        "\n",
        "\n",
        "\n",
        "\n",
        "\n",
        "1.2. Operaciones que no modifican un diccionario\n",
        "\n",
        "\n",
        "\n",
        "len(dictionary) : Devuelve el número de elementos del diccionario dictionary.\n",
        "\n",
        "\n",
        "\n",
        "min(dictionary) : Devuelve la mínima clave del diccionario dictionarysiempre que las claves sean comparables.\n",
        "\n",
        "\n",
        "\n",
        "max(dictionary) : Devuelve la máxima clave del diccionario dictionarysiempre que las claves sean comparables."
      ]
    },
    {
      "cell_type": "code",
      "execution_count": null,
      "id": "0a54c6dd",
      "metadata": {
        "id": "0a54c6dd"
      },
      "outputs": [],
      "source": [
        "sum(dictionary) : Devuelve la suma de las claves del diccionario dictionary, siempre que las claves se puedan sumar.\n",
        "#"
      ]
    },
    {
      "cell_type": "markdown",
      "id": "249b1760",
      "metadata": {
        "id": "249b1760"
      },
      "source": [
        "clave in dictionary : Devuelve True si la clave clave pertenece al diccionario dictionary y False en caso contrario."
      ]
    },
    {
      "cell_type": "code",
      "execution_count": null,
      "id": "ab389268",
      "metadata": {
        "id": "ab389268"
      },
      "outputs": [],
      "source": [
        "dictionary.keys() : Devuelve un iterador sobre las claves de un diccionario.\n",
        "#\n",
        "dictionary.values() : Devuelve un iterador sobre los valores de un diccionario.\n",
        "#\n",
        "dictionary.items() : Devuelve un iterador sobre los pares clave-valor de un diccionario.\n",
        "#"
      ]
    },
    {
      "cell_type": "code",
      "execution_count": null,
      "id": "6d2ff6b2",
      "metadata": {
        "id": "6d2ff6b2"
      },
      "outputs": [],
      "source": [
        "dictionary = {'nombre':'Ramón', 'despacho': 218, 'email':'asalber@ceu.es'}\n",
        "#\n",
        "len(dictionary)\n",
        "#"
      ]
    },
    {
      "cell_type": "markdown",
      "id": "19f94fbe",
      "metadata": {
        "id": "19f94fbe"
      },
      "source": [
        "3"
      ]
    },
    {
      "cell_type": "code",
      "execution_count": null,
      "id": "68493518",
      "metadata": {
        "id": "68493518"
      },
      "outputs": [],
      "source": [
        "min(dictionary)\n",
        "#"
      ]
    },
    {
      "cell_type": "markdown",
      "id": "074a6610",
      "metadata": {
        "id": "074a6610"
      },
      "source": [
        "'despacho'"
      ]
    },
    {
      "cell_type": "code",
      "execution_count": null,
      "id": "739e10ad",
      "metadata": {
        "id": "739e10ad"
      },
      "outputs": [],
      "source": [
        "'email' in dictionary\n",
        "#"
      ]
    },
    {
      "cell_type": "markdown",
      "id": "52a0875c",
      "metadata": {
        "id": "52a0875c"
      },
      "source": [
        "True"
      ]
    },
    {
      "cell_type": "code",
      "execution_count": null,
      "id": "bd4aaff2",
      "metadata": {
        "id": "bd4aaff2"
      },
      "outputs": [],
      "source": [
        "dictionary.keys()\n",
        "#\n",
        "dict_keys(['nombre', 'despacho', 'email'])\n",
        "#\n",
        "dictionary.values()\n",
        "#"
      ]
    },
    {
      "cell_type": "markdown",
      "id": "5efda5f0",
      "metadata": {
        "id": "5efda5f0"
      },
      "source": [
        "dict_values(['Alfredo', 218, 'asalber@ceu.es'])"
      ]
    },
    {
      "cell_type": "code",
      "execution_count": null,
      "id": "8ebe43bd",
      "metadata": {
        "id": "8ebe43bd"
      },
      "outputs": [],
      "source": [
        "dictionary.items()\n",
        "#"
      ]
    },
    {
      "cell_type": "markdown",
      "id": "a2d59be1",
      "metadata": {
        "id": "a2d59be1"
      },
      "source": [
        "dict_items([('nombre', 'Alfredo'), ('despacho', 218), ('email', 'asalber@ceu.es')])\n",
        "\n",
        "\n",
        "\n",
        "\n",
        "\n",
        "\n",
        "\n",
        "1.5. Operaciones que modifican un diccionario\n",
        "\n",
        "\n",
        "\n",
        "dictionary[clave] = valor : Añade al diccionario dictionary el par formado por la clave clave y el valor valor.\n",
        "\n",
        "\n",
        "\n",
        "dictionary.update(d2) : Añade los pares del diccionario d2 al diccionario dictionary.\n",
        "\n",
        "\n",
        "\n",
        "dictionary.pop(clave, alternativo) : Devuelve el valor asociado a la clave clave del diccionario dictionary y lo elimina del diccionario. Si la clave no está devuelve el valor alternativo.\n",
        "\n",
        "\n",
        "\n",
        "dictionary.popitem() : Devuelve la tupla formada por la clave y el valor del último par añadido al diccionario dictionary y lo elimina del diccionario."
      ]
    },
    {
      "cell_type": "code",
      "execution_count": null,
      "id": "d5ddb09a",
      "metadata": {
        "id": "d5ddb09a"
      },
      "outputs": [],
      "source": [
        "del dictionary[clave] : Elimina del diccionario dictionary el par con la clave clave.\n",
        "#"
      ]
    },
    {
      "cell_type": "markdown",
      "id": "03074aa0",
      "metadata": {
        "id": "03074aa0"
      },
      "source": [
        "dictionary.clear() : Elimina todos los pares del diccionario dictionary de manera que se queda vacío."
      ]
    },
    {
      "cell_type": "code",
      "execution_count": null,
      "id": "c1f9da5a",
      "metadata": {
        "id": "c1f9da5a"
      },
      "outputs": [],
      "source": [
        "dictionary = {'nombre':'Ramón', 'despacho': 218, 'email':'rugartealb@educacion.navarra.es'}\n",
        "#\n",
        "dictionary['centro'] = 'Donapea'\n",
        "#\n",
        "dictionary\n",
        "#"
      ]
    },
    {
      "cell_type": "markdown",
      "id": "8020d2d8",
      "metadata": {
        "id": "8020d2d8"
      },
      "source": [
        "{'nombre': 'Ramón', 'despacho': 218, 'email': 'rugartealb@educacion.navarra.es', 'centro': 'Donapea'}"
      ]
    },
    {
      "cell_type": "code",
      "execution_count": null,
      "id": "2ab05ee1",
      "metadata": {
        "id": "2ab05ee1"
      },
      "outputs": [],
      "source": [
        "dictionary.pop('despacho')\n",
        "#"
      ]
    },
    {
      "cell_type": "markdown",
      "id": "178ed30b",
      "metadata": {
        "id": "178ed30b"
      },
      "source": [
        "218"
      ]
    },
    {
      "cell_type": "code",
      "execution_count": null,
      "id": "6960c00b",
      "metadata": {
        "id": "6960c00b"
      },
      "outputs": [],
      "source": [
        "dictionary\n",
        "#"
      ]
    },
    {
      "cell_type": "markdown",
      "id": "ac3f2ee5",
      "metadata": {
        "id": "ac3f2ee5"
      },
      "source": [
        "{'nombre': 'Ramón', 'email': 'rugartealb@educacion.navarra.es', 'centro': 'Donapea'}"
      ]
    },
    {
      "cell_type": "code",
      "execution_count": null,
      "id": "a87f45fb",
      "metadata": {
        "id": "a87f45fb"
      },
      "outputs": [],
      "source": [
        "dictionary.popitem()\n",
        "#\n",
        "('centro', 'Donapea')\n",
        "#\n",
        "dictionary\n",
        "#"
      ]
    },
    {
      "cell_type": "markdown",
      "id": "757d1fbc",
      "metadata": {
        "id": "757d1fbc"
      },
      "source": [
        "{'nombre': 'Ramón', 'email': 'rugartealb@educacion.navarra.es'}"
      ]
    },
    {
      "cell_type": "code",
      "execution_count": null,
      "id": "bfce4c50",
      "metadata": {
        "id": "bfce4c50"
      },
      "outputs": [],
      "source": [
        "del dictionary['email']\n",
        "#\n",
        "dictionary\n",
        "#"
      ]
    },
    {
      "cell_type": "markdown",
      "id": "9736e695",
      "metadata": {
        "id": "9736e695"
      },
      "source": [
        "{'nombre': 'Ramón'}"
      ]
    },
    {
      "cell_type": "code",
      "execution_count": null,
      "id": "a56122c6",
      "metadata": {
        "id": "a56122c6"
      },
      "outputs": [],
      "source": [
        "dictionary.clear()\n",
        "#\n",
        "dictionary\n",
        "#\n",
        "{}\n",
        "#"
      ]
    },
    {
      "cell_type": "markdown",
      "id": "03d0ac39",
      "metadata": {
        "id": "03d0ac39"
      },
      "source": [
        "1.6. Copia de diccionarios\n",
        "\n",
        "\n",
        "\n",
        "Existen dos formas de copiar diccionarios:\n",
        "\n",
        "\n",
        "\n",
        "Copia por referencia d1 = d2: Asocia la la variable d1 el mismo diccionario que tiene asociado la variable d2, es decir, ambas variables apuntan a la misma dirección de memoria. Cualquier cambio que hagamos a través de d1 o d2 afectará al mismo diccionario.\n",
        "\n",
        "\n",
        "\n",
        "Copia por valor d1 = dict(d2): Crea una copia del diccionario asociado a d2 en una dirección de memoria diferente y se la asocia a d1. Las variables apuntan a direcciones de memoria diferentes que contienen los mismos datos. Cualquier cambio que hagamos a través de d1 no afectará al diccionario de d2 y viceversa."
      ]
    },
    {
      "cell_type": "code",
      "execution_count": null,
      "id": "389b3ec6",
      "metadata": {
        "id": "389b3ec6"
      },
      "outputs": [],
      "source": [
        "dictionary_a = {1:'A', 2:'B', 3:'C'}\n",
        "#\n",
        "# copia por referencia\n",
        "#\n",
        "dictionary_b = dictionary_a\n",
        "#\n",
        "dictionary_b\n",
        "#\n",
        "{1:'A', 2:'B', 3:'C'}\n",
        "#\n",
        "dictionary_b.pop(2)\n",
        "#\n",
        "dictionary_b\n",
        "#\n",
        "{1:'A', 3:'C'}\n",
        "#\n",
        "dictionary_a\n",
        "#\n",
        "{1:'A', 3:'C'}\n",
        "#"
      ]
    },
    {
      "cell_type": "code",
      "execution_count": null,
      "id": "ad62e9d8",
      "metadata": {
        "id": "ad62e9d8"
      },
      "outputs": [],
      "source": [
        "dictionary_a = {1:'A', 2:'B', 3:'C'}\n",
        "#\n",
        "# copia por valor\n",
        "#\n",
        "dictionary_b = dict(dict_a)\n",
        "#\n",
        "dictionary_b\n",
        "#\n",
        "{1:'A', 2:'B', 3:'C'}\n",
        "#\n",
        "dictionary_b.pop(2)\n",
        "#\n",
        "dictionary_b\n",
        "#\n",
        "{1:'A', 3:'C'}\n",
        "#\n",
        "dictionary_a\n",
        "#\n",
        "{1:'A', 2:'B', 3:'C'}\n",
        "#"
      ]
    }
  ],
  "metadata": {
    "kernelspec": {
      "display_name": "Python 3",
      "language": "python",
      "name": "python3"
    },
    "language_info": {
      "name": "python",
      "version": "3.11"
    },
    "colab": {
      "provenance": []
    }
  },
  "nbformat": 4,
  "nbformat_minor": 5
}