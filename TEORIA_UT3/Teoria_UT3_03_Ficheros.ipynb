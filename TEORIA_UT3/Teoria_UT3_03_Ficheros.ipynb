{
  "cells": [
    {
      "cell_type": "markdown",
      "id": "e33be398",
      "metadata": {
        "id": "e33be398"
      },
      "source": [
        "# UT2 · 06 Ficheros"
      ]
    },
    {
      "cell_type": "markdown",
      "id": "c3fef969",
      "metadata": {
        "id": "c3fef969"
      },
      "source": [
        "Ficheros\n",
        "\n",
        "\n",
        "\n",
        "Hasta ahora hemos visto cómo interactuar con un programa a través del teclado (entrada de datos) y la terminal (salida), pero en la mayor parte de las aplicaciones reales tendremos que leer y escribir datos en ficheros.\n",
        "\n",
        "\n",
        "\n",
        "\n",
        "\n",
        "\n",
        "\n",
        "Al utilizar ficheros para guardar los datos estos perdurarán tras la ejecución del programa, pudiendo ser consultados o utilizados más tarde.\n",
        "\n",
        "\n",
        "\n",
        "\n",
        "\n",
        "\n",
        "\n",
        "Las operaciones más habituales con ficheros son:\n",
        "\n",
        "\n",
        "\n",
        "\n",
        "\n",
        "\n",
        "\n",
        "Crear un fichero.\n",
        "\n",
        "\n",
        "\n",
        "Escribir datos en un fichero.\n",
        "\n",
        "\n",
        "\n",
        "Leer datos de un fichero.\n",
        "\n",
        "\n",
        "\n",
        "Borrar un fichero.\n",
        "\n",
        "\n",
        "\n",
        "Creación y escritura de ficheros\n",
        "\n",
        "\n",
        "\n",
        "Para crear un fichero nuevo se utiliza la siguiente función:"
      ]
    },
    {
      "cell_type": "code",
      "execution_count": null,
      "id": "e2e07f65",
      "metadata": {
        "id": "e2e07f65"
      },
      "outputs": [],
      "source": [
        "open(path, 'w') : Crea el fichero con la ruta path, lo abre en modo escritura (el argumento 'w' significa write) y devuelve un objeto que lo referencia.\n",
        "#"
      ]
    },
    {
      "cell_type": "markdown",
      "id": "276e2b65",
      "metadata": {
        "id": "276e2b65"
      },
      "source": [
        "> **Ojo:** Si el fichero indicado por la ruta ya existe en el sistema, se reemplazará por el nuevo.\n",
        "\n",
        "\n",
        "\n",
        "\n",
        "\n",
        "\n",
        "\n",
        "Una vez creado el fichero, para escribir datos en él se utiliza el siguiente método:\n",
        "\n",
        "\n",
        "\n",
        "\n",
        "\n",
        "\n",
        "\n",
        "file.write(c) : Escribe la cadena c en el fichero referenciado por file y devuelve el número de caracteres escritos."
      ]
    },
    {
      "cell_type": "code",
      "execution_count": null,
      "id": "a3d5cbeb",
      "metadata": {
        "id": "a3d5cbeb"
      },
      "outputs": [],
      "source": [
        "file = open('saludo.txt', 'w')\n",
        "#\n",
        "file.write('¡Bienvenido a Python!')\n",
        "#"
      ]
    },
    {
      "cell_type": "markdown",
      "id": "0f98aca5",
      "metadata": {
        "id": "0f98aca5"
      },
      "source": [
        "21\n",
        "\n",
        "\n",
        "\n",
        "\n",
        "\n",
        "\n",
        "\n",
        "Añadir datos a un fichero\n",
        "\n",
        "\n",
        "\n",
        "Si en lugar de crear un fichero nuevo queremos añadir datos a un fichero existente se debe utilizar la siguiente función:"
      ]
    },
    {
      "cell_type": "code",
      "execution_count": null,
      "id": "fdaf1fc6",
      "metadata": {
        "id": "fdaf1fc6"
      },
      "outputs": [],
      "source": [
        "open(path, 'a') : Abre el fichero con la ruta path en modo añadir (el argumento 'a' significa append) y devuelve un objeto que lo referencia.\n",
        "#"
      ]
    },
    {
      "cell_type": "markdown",
      "id": "c8c7b6aa",
      "metadata": {
        "id": "c8c7b6aa"
      },
      "source": [
        "Una vez abierto el fichero, se utiliza el método de escritura anterior y los datos se añaden al final del fichero."
      ]
    },
    {
      "cell_type": "code",
      "execution_count": null,
      "id": "cb03c5c9",
      "metadata": {
        "id": "cb03c5c9"
      },
      "outputs": [],
      "source": [
        "file = open('saludo.txt', 'a')\n",
        "#\n",
        "file.write('\\n¡Hasta pronto!')\n",
        "#"
      ]
    },
    {
      "cell_type": "markdown",
      "id": "8bcdf5f5",
      "metadata": {
        "id": "8bcdf5f5"
      },
      "source": [
        "15\n",
        "\n",
        "\n",
        "\n",
        "\n",
        "\n",
        "\n",
        "\n",
        "Leer datos de un fichero\n",
        "\n",
        "\n",
        "\n",
        "Para abrir un fichero en modo lectura se utiliza la siguiente función:"
      ]
    },
    {
      "cell_type": "code",
      "execution_count": null,
      "id": "13dfeae2",
      "metadata": {
        "id": "13dfeae2"
      },
      "outputs": [],
      "source": [
        "open(path, 'r') : Abre el fichero con la ruta path en modo lectura (el argumento 'r' significa read) y devuelve un objeto que lo referencia.\n",
        "#"
      ]
    },
    {
      "cell_type": "markdown",
      "id": "8477270d",
      "metadata": {
        "id": "8477270d"
      },
      "source": [
        "Una vez abierto el fichero, se puede leer todo el contenido del fichero o se puede leer línea a línea. Para ello se utilizan las siguientes funciones:"
      ]
    },
    {
      "cell_type": "code",
      "execution_count": null,
      "id": "398b4812",
      "metadata": {
        "id": "398b4812"
      },
      "outputs": [],
      "source": [
        "file.read() : Devuelve todos los datos contenidos en el fichero referenciado por file como una cadena de caracteres.\n",
        "#"
      ]
    },
    {
      "cell_type": "markdown",
      "id": "a1bc12ba",
      "metadata": {
        "id": "a1bc12ba"
      },
      "source": [
        "file.readlines() : Devuelve una lista de cadenas de caracteres donde cada cadena es una línea del fichero referenciado por file."
      ]
    },
    {
      "cell_type": "code",
      "execution_count": null,
      "id": "ae1e497b",
      "metadata": {
        "id": "ae1e497b"
      },
      "outputs": [],
      "source": [
        "file = open('saludo.txt', 'r')\n",
        "#\n",
        "print(file.read())\n",
        "#"
      ]
    },
    {
      "cell_type": "markdown",
      "id": "c48822c3",
      "metadata": {
        "id": "c48822c3"
      },
      "source": [
        "¡Bienvenido a Python!\n",
        "\n",
        "\n",
        "\n",
        "¡Hasta pronto!"
      ]
    },
    {
      "cell_type": "code",
      "execution_count": null,
      "id": "993a57b7",
      "metadata": {
        "id": "993a57b7"
      },
      "outputs": [],
      "source": [
        "file = open('saludo.txt', 'r')\n",
        "#\n",
        "lineas = file.readlines()\n",
        "#\n",
        "print(lineas)\n",
        "#"
      ]
    },
    {
      "cell_type": "markdown",
      "id": "fa25eb41",
      "metadata": {
        "id": "fa25eb41"
      },
      "source": [
        "['Bienvenido a Python!\\n', '¡Hasta pronto!']\n",
        "\n",
        "\n",
        "\n",
        "\n",
        "\n",
        "\n",
        "\n",
        "Cerrar un fichero\n",
        "\n",
        "\n",
        "\n",
        "Para cerrar un fichero se utiliza el siguiente método:"
      ]
    },
    {
      "cell_type": "code",
      "execution_count": null,
      "id": "90e7197a",
      "metadata": {
        "id": "90e7197a"
      },
      "outputs": [],
      "source": [
        "file.close() : Cierra el fichero referenciado por el objeto file.\n",
        "#"
      ]
    },
    {
      "cell_type": "markdown",
      "id": "3e5827cc",
      "metadata": {
        "id": "3e5827cc"
      },
      "source": [
        "Cuando se termina de trabajar con un fichero conviene cerrarlo, sobre todo si se abre en modo escritura, ya que mientras está abierto en este modo no se puede abrir por otra aplicación. Si no se cierra explícitamente un fichero, Python intentará cerrarlo cuando estime que ya no se va a usar más."
      ]
    },
    {
      "cell_type": "code",
      "execution_count": null,
      "id": "0e82f164",
      "metadata": {
        "id": "0e82f164"
      },
      "outputs": [],
      "source": [
        "file = open('saludo.txt'):\n",
        "#\n",
        "print(file.read())\n",
        "#"
      ]
    },
    {
      "cell_type": "markdown",
      "id": "ba167533",
      "metadata": {
        "id": "ba167533"
      },
      "source": [
        "¡Bienvenido a Python!\n",
        "\n",
        "\n",
        "\n",
        "¡Hasta pronto!"
      ]
    },
    {
      "cell_type": "code",
      "execution_count": null,
      "id": "4166a7c2",
      "metadata": {
        "id": "4166a7c2"
      },
      "outputs": [],
      "source": [
        "file.close()  # Cierre del fichero\n",
        "#\n",
        "print(file.read())  # Produce un error\n",
        "#\n",
        "Traceback (most recent call last):\n",
        "#\n",
        "File \"<stdin>\", line 1, in <module>\n",
        "#\n",
        "ValueError: I/O operation on closed file.\n",
        "#\n",
        "La estructura with open(...) as\n",
        "#"
      ]
    },
    {
      "cell_type": "markdown",
      "id": "46009b1c",
      "metadata": {
        "id": "46009b1c"
      },
      "source": [
        "Para despreocuparse del cierre de un fichero cuando ya no es necesario y no tener que cerrarlo explícitamente, se utiliza la siguiente estructura:"
      ]
    },
    {
      "cell_type": "code",
      "execution_count": null,
      "id": "74d4d1f2",
      "metadata": {
        "id": "74d4d1f2"
      },
      "outputs": [],
      "source": [
        "with open(path, modo) as file :\n",
        "#"
      ]
    },
    {
      "cell_type": "markdown",
      "id": "f0bcb446",
      "metadata": {
        "id": "f0bcb446"
      },
      "source": [
        "bloque código\n",
        "\n",
        "\n",
        "\n",
        "\n",
        "\n",
        "\n",
        "\n",
        "Esta estructura abre el fichero con la ruta path en el modo modo ('w' para escribir, 'a' para añadir y 'r' para leer) y devuelve una referencia al mismo en la variable file. El fichero permanece abierto mientras se ejecuta el bloque de código asociado y se cierra automáticamente cuando termina la ejecución del bloque."
      ]
    },
    {
      "cell_type": "code",
      "execution_count": null,
      "id": "704d0e1c",
      "metadata": {
        "id": "704d0e1c"
      },
      "outputs": [],
      "source": [
        "with open('saludo.txt', 'w') as file:\n",
        "#\n",
        "    file.write(\"Hola de nuevo\")\n",
        "#\n",
        "\n",
        "#"
      ]
    },
    {
      "cell_type": "markdown",
      "id": "d0ee66df",
      "metadata": {
        "id": "d0ee66df"
      },
      "source": [
        "13"
      ]
    },
    {
      "cell_type": "code",
      "execution_count": null,
      "id": "94bf065a",
      "metadata": {
        "id": "94bf065a"
      },
      "outputs": [],
      "source": [
        "with open('saludo.txt', 'r') as file:\n",
        "#\n",
        "    print(file.read())\n",
        "#\n",
        "\n",
        "#"
      ]
    },
    {
      "cell_type": "markdown",
      "id": "5154e138",
      "metadata": {
        "id": "5154e138"
      },
      "source": [
        "Hola de nuevo"
      ]
    },
    {
      "cell_type": "code",
      "execution_count": null,
      "id": "bbb5630e",
      "metadata": {
        "id": "bbb5630e"
      },
      "outputs": [],
      "source": [
        "print(file.read())  # Produce un error al estar el fichero cerrado\n",
        "#\n",
        "Traceback (most recent call last):\n",
        "#\n",
        "File \"<stdin>\", line 1, in <module>\n",
        "#\n",
        "ValueError: I/O operation on closed file.\n",
        "#"
      ]
    },
    {
      "cell_type": "markdown",
      "id": "a8d7e309",
      "metadata": {
        "id": "a8d7e309"
      },
      "source": [
        "Renombrado y borrado de un fichero\n",
        "\n",
        "\n",
        "\n",
        "Para renombrar o borrar un fichero se utilizan funciones del módulo os."
      ]
    },
    {
      "cell_type": "code",
      "execution_count": null,
      "id": "c4d39ca5",
      "metadata": {
        "id": "c4d39ca5"
      },
      "outputs": [],
      "source": [
        "os.rename(path1, path2) : Renombra y mueve el fichero de la ruta path1 a la ruta path2.\n",
        "#\n",
        "os.remove(path) : Borra el fichero de la ruta path.\n",
        "#"
      ]
    },
    {
      "cell_type": "markdown",
      "id": "14cd8716",
      "metadata": {
        "id": "14cd8716"
      },
      "source": [
        "Antes de borrar o renombrar un directorio conviene comprobar que existe para que no se produzca un error. Para ello se utiliza la función"
      ]
    },
    {
      "cell_type": "code",
      "execution_count": null,
      "id": "893f7e43",
      "metadata": {
        "id": "893f7e43"
      },
      "outputs": [],
      "source": [
        "os.path.isfile(path) : Devuelve True si existe un fichero en la ruta path y False en caso contrario.\n",
        "#"
      ]
    },
    {
      "cell_type": "code",
      "execution_count": null,
      "id": "74e704e1",
      "metadata": {
        "id": "74e704e1"
      },
      "outputs": [],
      "source": [
        "import os\n",
        "#\n",
        "file = 'saludo.txt'\n",
        "#\n",
        "if os.path.isfile(file):\n",
        "#\n",
        "    os.rename(file, 'bienvenida.txt') # renombrado\n",
        "#\n",
        "else:\n",
        "#\n",
        "    print('¡El fichero', file, 'no existe!')\n",
        "#\n",
        "\n",
        "#\n",
        "file = 'bienvenida.txt'\n",
        "#\n",
        "if os.path.isfile(file):\n",
        "#\n",
        "    os.remove(file) # borrado\n",
        "#\n",
        "else:\n",
        "#\n",
        "    print('¡El fichero', file, 'no existe!')\n",
        "#"
      ]
    },
    {
      "cell_type": "markdown",
      "id": "78154cbc",
      "metadata": {
        "id": "78154cbc"
      },
      "source": [
        "Creación, cambio y eliminación de directorios\n",
        "\n",
        "\n",
        "\n",
        "Para trabajar con directorios también se utilizan funciones del módulo os."
      ]
    },
    {
      "cell_type": "code",
      "execution_count": null,
      "id": "6a12e791",
      "metadata": {
        "id": "6a12e791"
      },
      "outputs": [],
      "source": [
        "os.listdir(path) : Devuelve una lista con los ficheros y directorios contenidos en la ruta path.\n",
        "#\n",
        "os.mkdir(path) : Crea un nuevo directorio en la ruta path.\n",
        "#\n",
        "os.chdir(path) : Cambia el directorio actual al indicado por la ruta path.\n",
        "#\n",
        "os.getcwd() : Devuelve una cadena con la ruta del directorio actual.\n",
        "#\n",
        "os.rmdir(path) : Borra el directorio de la ruta path, siempre y cuando esté vacío.\n",
        "#"
      ]
    },
    {
      "cell_type": "markdown",
      "id": "861a17b8",
      "metadata": {
        "id": "861a17b8"
      },
      "source": [
        "Acceder a ficheros desde una URL\n",
        "\n",
        "\n",
        "\n",
        "Para acceder a ficheros desde una URL en python deberemos usar la librería urllib.\n",
        "\n",
        "\n",
        "\n",
        "La librería urllib  tiene varios módulos para realizar diferentes tareas. Para la lectura de ficheros utilizaremos su módulo request.\n",
        "\n",
        "\n",
        "\n",
        "El módulo urllib.request define funciones y clases que ayudan en la apertura de URLs (la mayoría HTTP) en un mundo complejo — autenticación básica y digest, redirecciones, cookies y más.\n",
        "\n",
        "\n",
        "\n",
        "file = urllib.request.urlopen(url): accede al texto dentro de la página web con dirección url y lo asigna al objeto file.\n",
        "\n",
        "\n",
        "\n",
        "line.decode(“utf-8”): Iterando cada una de las líneas line del objeto file, podemos decodificar su contenido en el formato utf-8 para ser leído como cadena."
      ]
    },
    {
      "cell_type": "code",
      "execution_count": null,
      "id": "9568b2a7",
      "metadata": {
        "id": "9568b2a7"
      },
      "outputs": [],
      "source": [
        "import urllib.request\n",
        "#"
      ]
    },
    {
      "cell_type": "code",
      "execution_count": null,
      "id": "5d996113",
      "metadata": {
        "id": "5d996113"
      },
      "outputs": [],
      "source": [
        "def read_url(url):\n",
        "#\n",
        "file = urllib.request.urlopen(url)\n",
        "#\n",
        "for line in file:\n",
        "#\n",
        "decoded_line = line.decode(\"utf-8\")\n",
        "#\n",
        "print(decoded_line)\n",
        "#"
      ]
    },
    {
      "cell_type": "markdown",
      "id": "3d118eaf",
      "metadata": {
        "id": "3d118eaf"
      },
      "source": [
        "return"
      ]
    },
    {
      "cell_type": "code",
      "execution_count": null,
      "id": "489ae985",
      "metadata": {
        "id": "489ae985"
      },
      "outputs": [],
      "source": [
        "url = \"http://textfiles.com/adventure/aencounter.txt\"\n",
        "#\n",
        "read_url(url)\n",
        "#"
      ]
    }
  ],
  "metadata": {
    "kernelspec": {
      "display_name": "Python 3",
      "language": "python",
      "name": "python3"
    },
    "language_info": {
      "name": "python",
      "version": "3.11"
    },
    "colab": {
      "provenance": []
    }
  },
  "nbformat": 4,
  "nbformat_minor": 5
}